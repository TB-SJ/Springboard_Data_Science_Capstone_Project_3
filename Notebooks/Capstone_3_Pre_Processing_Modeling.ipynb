{
 "cells": [
  {
   "cell_type": "markdown",
   "id": "2aaac3e0-f316-4836-8269-2aee728d0202",
   "metadata": {},
   "source": [
    "# Pre-processing and Modeling"
   ]
  },
  {
   "cell_type": "markdown",
   "id": "8895fb15-2bae-4af4-ba56-93bed5fbb13d",
   "metadata": {},
   "source": [
    "Due to some issues with tensor flow and the need for additional resources, I ran this notebook in google colab. "
   ]
  },
  {
   "cell_type": "code",
   "execution_count": 1,
   "id": "WykXA5tPkeMy",
   "metadata": {
    "colab": {
     "base_uri": "https://localhost:8080/"
    },
    "id": "WykXA5tPkeMy",
    "outputId": "4fd80f49-3e97-4def-a5d8-a31fe4cd53aa"
   },
   "outputs": [
    {
     "name": "stdout",
     "output_type": "stream",
     "text": [
      "Collecting imagehash\n",
      "  Downloading ImageHash-4.3.2-py2.py3-none-any.whl.metadata (8.4 kB)\n",
      "Requirement already satisfied: PyWavelets in /usr/local/lib/python3.11/dist-packages (from imagehash) (1.8.0)\n",
      "Requirement already satisfied: numpy in /usr/local/lib/python3.11/dist-packages (from imagehash) (2.0.2)\n",
      "Requirement already satisfied: pillow in /usr/local/lib/python3.11/dist-packages (from imagehash) (11.2.1)\n",
      "Requirement already satisfied: scipy in /usr/local/lib/python3.11/dist-packages (from imagehash) (1.15.3)\n",
      "Downloading ImageHash-4.3.2-py2.py3-none-any.whl (296 kB)\n",
      "\u001b[?25l   \u001b[90m━━━━━━━━━━━━━━━━━━━━━━━━━━━━━━━━━━━━━━━━\u001b[0m \u001b[32m0.0/296.7 kB\u001b[0m \u001b[31m?\u001b[0m eta \u001b[36m-:--:--\u001b[0m\r",
      "\u001b[2K   \u001b[90m━━━━━━━━━━━━━━━━━━━━━━━━━━━━━━━━━━━━━━━━\u001b[0m \u001b[32m296.7/296.7 kB\u001b[0m \u001b[31m19.0 MB/s\u001b[0m eta \u001b[36m0:00:00\u001b[0m\n",
      "\u001b[?25hInstalling collected packages: imagehash\n",
      "Successfully installed imagehash-4.3.2\n"
     ]
    }
   ],
   "source": [
    "pip install imagehash"
   ]
  },
  {
   "cell_type": "code",
   "execution_count": 2,
   "id": "c1Xw9SA6uiwx",
   "metadata": {
    "colab": {
     "base_uri": "https://localhost:8080/"
    },
    "id": "c1Xw9SA6uiwx",
    "outputId": "51536c9b-2c31-4336-810f-392681f1eb42"
   },
   "outputs": [
    {
     "name": "stdout",
     "output_type": "stream",
     "text": [
      "Found existing installation: typeguard 4.4.2\n",
      "Uninstalling typeguard-4.4.2:\n",
      "  Successfully uninstalled typeguard-4.4.2\n",
      "Found existing installation: inflect 7.5.0\n",
      "Uninstalling inflect-7.5.0:\n",
      "  Successfully uninstalled inflect-7.5.0\n",
      "\u001b[33mWARNING: Skipping tensorflow-addons as it is not installed.\u001b[0m\u001b[33m\n",
      "\u001b[0mCollecting typeguard==2.13.3\n",
      "  Downloading typeguard-2.13.3-py3-none-any.whl.metadata (3.6 kB)\n",
      "Collecting tensorflow-addons==0.23.0\n",
      "  Downloading tensorflow_addons-0.23.0-cp311-cp311-manylinux_2_17_x86_64.manylinux2014_x86_64.whl.metadata (1.8 kB)\n",
      "Requirement already satisfied: packaging in /usr/local/lib/python3.11/dist-packages (from tensorflow-addons==0.23.0) (24.2)\n",
      "Downloading typeguard-2.13.3-py3-none-any.whl (17 kB)\n",
      "Downloading tensorflow_addons-0.23.0-cp311-cp311-manylinux_2_17_x86_64.manylinux2014_x86_64.whl (611 kB)\n",
      "\u001b[2K   \u001b[90m━━━━━━━━━━━━━━━━━━━━━━━━━━━━━━━━━━━━━━━━\u001b[0m \u001b[32m611.8/611.8 kB\u001b[0m \u001b[31m41.5 MB/s\u001b[0m eta \u001b[36m0:00:00\u001b[0m\n",
      "\u001b[?25hInstalling collected packages: typeguard, tensorflow-addons\n",
      "Successfully installed tensorflow-addons-0.23.0 typeguard-2.13.3\n"
     ]
    }
   ],
   "source": [
    "!pip uninstall -y typeguard inflect tensorflow-addons\n",
    "!pip install typeguard==2.13.3 tensorflow-addons==0.23.0"
   ]
  },
  {
   "cell_type": "code",
   "execution_count": 3,
   "id": "1NH4tcO0uO2U",
   "metadata": {
    "colab": {
     "base_uri": "https://localhost:8080/"
    },
    "id": "1NH4tcO0uO2U",
    "outputId": "8a177b01-8e0a-4669-ad5d-74dc2426ede1"
   },
   "outputs": [
    {
     "name": "stdout",
     "output_type": "stream",
     "text": [
      "Requirement already satisfied: tensorflow-addons in /usr/local/lib/python3.11/dist-packages (0.23.0)\n"
     ]
    }
   ],
   "source": [
    "pip install tensorflow-addons --no-deps"
   ]
  },
  {
   "cell_type": "code",
   "execution_count": 4,
   "id": "bXErkbW8wMwc",
   "metadata": {
    "colab": {
     "base_uri": "https://localhost:8080/"
    },
    "id": "bXErkbW8wMwc",
    "outputId": "0271e2a2-f655-46ad-c8d1-0cd95bc208d5"
   },
   "outputs": [
    {
     "name": "stdout",
     "output_type": "stream",
     "text": [
      "Mounted at /content/drive\n"
     ]
    }
   ],
   "source": [
    "from google.colab import drive\n",
    "drive.mount('/content/drive')"
   ]
  },
  {
   "cell_type": "code",
   "execution_count": null,
   "id": "2d03e9c3-a70e-499c-a244-10109678c5d2",
   "metadata": {
    "id": "2d03e9c3-a70e-499c-a244-10109678c5d2"
   },
   "outputs": [],
   "source": [
    "# Import libraries \n",
    "\n",
    "import pandas as pd\n",
    "import numpy as np\n",
    "import matplotlib.pyplot as plt\n",
    "from PIL import Image\n",
    "import imagehash\n",
    "import hashlib\n",
    "from collections import defaultdict\n",
    "from tqdm import tqdm\n",
    "from sklearn.metrics import confusion_matrix, classification_report\n",
    "from sklearn.model_selection import train_test_split\n",
    "from sklearn.metrics import precision_score, recall_score, f1_score, accuracy_score\n",
    "import tensorflow as tf\n",
    "from tensorflow.keras.preprocessing.image import ImageDataGenerator\n",
    "from tensorflow.keras.applications import MobileNetV2, EfficientNetB0\n",
    "from tensorflow.keras.applications import efficientnet, mobilenet_v2\n",
    "from tensorflow.keras import layers, models, optimizers\n",
    "from tensorflow.keras.models import Model\n",
    "from tensorflow.keras.layers import GlobalAveragePooling2D, Dense, Dropout, Input\n",
    "from tensorflow.keras.optimizers import Adam\n",
    "from tensorflow.keras.preprocessing import image\n",
    "from tensorflow.keras.applications.efficientnet import preprocess_input\n",
    "from tensorflow.keras.models import Sequential\n",
    "from tensorflow.keras.layers import Conv2D, MaxPooling2D, Dense, Flatten, Dropout, BatchNormalization, Input\n",
    "from sklearn.utils import class_weight\n",
    "import os\n",
    "os.environ['TF_CPP_MIN_LOG_LEVEL'] = '0'  # 0 = all logs, 1 = filter INFO, 2 = filter WARNING, 3 = filter ERROR"
   ]
  },
  {
   "cell_type": "markdown",
   "id": "fc83ade7-617c-4541-961e-a72f51f161a7",
   "metadata": {},
   "source": [
    "### Load Dataframe and Split Data"
   ]
  },
  {
   "cell_type": "markdown",
   "id": "52ad3dde-263d-4566-b1d3-6093d26dfea8",
   "metadata": {},
   "source": [
    "The first step was to load and split the data."
   ]
  },
  {
   "cell_type": "code",
   "execution_count": 6,
   "id": "64b07d78-fd00-4553-bea4-8e4f06ac49ad",
   "metadata": {
    "colab": {
     "base_uri": "https://localhost:8080/",
     "height": 206
    },
    "id": "64b07d78-fd00-4553-bea4-8e4f06ac49ad",
    "outputId": "7444ef3c-ea35-4de5-ac40-5ef31af54e5c"
   },
   "outputs": [
    {
     "data": {
      "application/vnd.google.colaboratory.intrinsic+json": {
       "summary": "{\n  \"name\": \"df\",\n  \"rows\": 7023,\n  \"fields\": [\n    {\n      \"column\": \"file_path\",\n      \"properties\": {\n        \"dtype\": \"string\",\n        \"num_unique_values\": 7023,\n        \"samples\": [\n          \"C:\\\\Users\\\\Travi\\\\OneDrive\\\\Documents\\\\GitHub\\\\Springboard_Data_Science_Capstone_Project_3\\\\Image_Data\\\\copy_of_original_images\\\\Te-no_0289.jpg\",\n          \"C:\\\\Users\\\\Travi\\\\OneDrive\\\\Documents\\\\GitHub\\\\Springboard_Data_Science_Capstone_Project_3\\\\Image_Data\\\\copy_of_original_images\\\\Te-me_0126.jpg\",\n          \"C:\\\\Users\\\\Travi\\\\OneDrive\\\\Documents\\\\GitHub\\\\Springboard_Data_Science_Capstone_Project_3\\\\Image_Data\\\\copy_of_original_images\\\\Tr-gl_0315.jpg\"\n        ],\n        \"semantic_type\": \"\",\n        \"description\": \"\"\n      }\n    },\n    {\n      \"column\": \"label\",\n      \"properties\": {\n        \"dtype\": \"category\",\n        \"num_unique_values\": 4,\n        \"samples\": [\n          \"pituitary\",\n          \"notumor\",\n          \"glioma\"\n        ],\n        \"semantic_type\": \"\",\n        \"description\": \"\"\n      }\n    },\n    {\n      \"column\": \"binary_label\",\n      \"properties\": {\n        \"dtype\": \"number\",\n        \"std\": 0,\n        \"min\": 0,\n        \"max\": 1,\n        \"num_unique_values\": 2,\n        \"samples\": [\n          0,\n          1\n        ],\n        \"semantic_type\": \"\",\n        \"description\": \"\"\n      }\n    },\n    {\n      \"column\": \"image_size\",\n      \"properties\": {\n        \"dtype\": \"category\",\n        \"num_unique_values\": 1,\n        \"samples\": [\n          \"(224, 224)\"\n        ],\n        \"semantic_type\": \"\",\n        \"description\": \"\"\n      }\n    },\n    {\n      \"column\": \"image_mode\",\n      \"properties\": {\n        \"dtype\": \"category\",\n        \"num_unique_values\": 1,\n        \"samples\": [\n          \"RGB\"\n        ],\n        \"semantic_type\": \"\",\n        \"description\": \"\"\n      }\n    }\n  ]\n}",
       "type": "dataframe",
       "variable_name": "df"
      },
      "text/html": [
       "\n",
       "  <div id=\"df-78024271-e9c4-4654-bc75-3275b765810f\" class=\"colab-df-container\">\n",
       "    <div>\n",
       "<style scoped>\n",
       "    .dataframe tbody tr th:only-of-type {\n",
       "        vertical-align: middle;\n",
       "    }\n",
       "\n",
       "    .dataframe tbody tr th {\n",
       "        vertical-align: top;\n",
       "    }\n",
       "\n",
       "    .dataframe thead th {\n",
       "        text-align: right;\n",
       "    }\n",
       "</style>\n",
       "<table border=\"1\" class=\"dataframe\">\n",
       "  <thead>\n",
       "    <tr style=\"text-align: right;\">\n",
       "      <th></th>\n",
       "      <th>file_path</th>\n",
       "      <th>label</th>\n",
       "      <th>binary_label</th>\n",
       "      <th>image_size</th>\n",
       "      <th>image_mode</th>\n",
       "    </tr>\n",
       "  </thead>\n",
       "  <tbody>\n",
       "    <tr>\n",
       "      <th>0</th>\n",
       "      <td>C:\\Users\\Travi\\OneDrive\\Documents\\GitHub\\Sprin...</td>\n",
       "      <td>glioma</td>\n",
       "      <td>1</td>\n",
       "      <td>(224, 224)</td>\n",
       "      <td>RGB</td>\n",
       "    </tr>\n",
       "    <tr>\n",
       "      <th>1</th>\n",
       "      <td>C:\\Users\\Travi\\OneDrive\\Documents\\GitHub\\Sprin...</td>\n",
       "      <td>pituitary</td>\n",
       "      <td>1</td>\n",
       "      <td>(224, 224)</td>\n",
       "      <td>RGB</td>\n",
       "    </tr>\n",
       "    <tr>\n",
       "      <th>2</th>\n",
       "      <td>C:\\Users\\Travi\\OneDrive\\Documents\\GitHub\\Sprin...</td>\n",
       "      <td>meningioma</td>\n",
       "      <td>1</td>\n",
       "      <td>(224, 224)</td>\n",
       "      <td>RGB</td>\n",
       "    </tr>\n",
       "    <tr>\n",
       "      <th>3</th>\n",
       "      <td>C:\\Users\\Travi\\OneDrive\\Documents\\GitHub\\Sprin...</td>\n",
       "      <td>glioma</td>\n",
       "      <td>1</td>\n",
       "      <td>(224, 224)</td>\n",
       "      <td>RGB</td>\n",
       "    </tr>\n",
       "    <tr>\n",
       "      <th>4</th>\n",
       "      <td>C:\\Users\\Travi\\OneDrive\\Documents\\GitHub\\Sprin...</td>\n",
       "      <td>notumor</td>\n",
       "      <td>0</td>\n",
       "      <td>(224, 224)</td>\n",
       "      <td>RGB</td>\n",
       "    </tr>\n",
       "  </tbody>\n",
       "</table>\n",
       "</div>\n",
       "    <div class=\"colab-df-buttons\">\n",
       "\n",
       "  <div class=\"colab-df-container\">\n",
       "    <button class=\"colab-df-convert\" onclick=\"convertToInteractive('df-78024271-e9c4-4654-bc75-3275b765810f')\"\n",
       "            title=\"Convert this dataframe to an interactive table.\"\n",
       "            style=\"display:none;\">\n",
       "\n",
       "  <svg xmlns=\"http://www.w3.org/2000/svg\" height=\"24px\" viewBox=\"0 -960 960 960\">\n",
       "    <path d=\"M120-120v-720h720v720H120Zm60-500h600v-160H180v160Zm220 220h160v-160H400v160Zm0 220h160v-160H400v160ZM180-400h160v-160H180v160Zm440 0h160v-160H620v160ZM180-180h160v-160H180v160Zm440 0h160v-160H620v160Z\"/>\n",
       "  </svg>\n",
       "    </button>\n",
       "\n",
       "  <style>\n",
       "    .colab-df-container {\n",
       "      display:flex;\n",
       "      gap: 12px;\n",
       "    }\n",
       "\n",
       "    .colab-df-convert {\n",
       "      background-color: #E8F0FE;\n",
       "      border: none;\n",
       "      border-radius: 50%;\n",
       "      cursor: pointer;\n",
       "      display: none;\n",
       "      fill: #1967D2;\n",
       "      height: 32px;\n",
       "      padding: 0 0 0 0;\n",
       "      width: 32px;\n",
       "    }\n",
       "\n",
       "    .colab-df-convert:hover {\n",
       "      background-color: #E2EBFA;\n",
       "      box-shadow: 0px 1px 2px rgba(60, 64, 67, 0.3), 0px 1px 3px 1px rgba(60, 64, 67, 0.15);\n",
       "      fill: #174EA6;\n",
       "    }\n",
       "\n",
       "    .colab-df-buttons div {\n",
       "      margin-bottom: 4px;\n",
       "    }\n",
       "\n",
       "    [theme=dark] .colab-df-convert {\n",
       "      background-color: #3B4455;\n",
       "      fill: #D2E3FC;\n",
       "    }\n",
       "\n",
       "    [theme=dark] .colab-df-convert:hover {\n",
       "      background-color: #434B5C;\n",
       "      box-shadow: 0px 1px 3px 1px rgba(0, 0, 0, 0.15);\n",
       "      filter: drop-shadow(0px 1px 2px rgba(0, 0, 0, 0.3));\n",
       "      fill: #FFFFFF;\n",
       "    }\n",
       "  </style>\n",
       "\n",
       "    <script>\n",
       "      const buttonEl =\n",
       "        document.querySelector('#df-78024271-e9c4-4654-bc75-3275b765810f button.colab-df-convert');\n",
       "      buttonEl.style.display =\n",
       "        google.colab.kernel.accessAllowed ? 'block' : 'none';\n",
       "\n",
       "      async function convertToInteractive(key) {\n",
       "        const element = document.querySelector('#df-78024271-e9c4-4654-bc75-3275b765810f');\n",
       "        const dataTable =\n",
       "          await google.colab.kernel.invokeFunction('convertToInteractive',\n",
       "                                                    [key], {});\n",
       "        if (!dataTable) return;\n",
       "\n",
       "        const docLinkHtml = 'Like what you see? Visit the ' +\n",
       "          '<a target=\"_blank\" href=https://colab.research.google.com/notebooks/data_table.ipynb>data table notebook</a>'\n",
       "          + ' to learn more about interactive tables.';\n",
       "        element.innerHTML = '';\n",
       "        dataTable['output_type'] = 'display_data';\n",
       "        await google.colab.output.renderOutput(dataTable, element);\n",
       "        const docLink = document.createElement('div');\n",
       "        docLink.innerHTML = docLinkHtml;\n",
       "        element.appendChild(docLink);\n",
       "      }\n",
       "    </script>\n",
       "  </div>\n",
       "\n",
       "\n",
       "    <div id=\"df-bd7baa54-4124-4a0b-829c-c80596538d01\">\n",
       "      <button class=\"colab-df-quickchart\" onclick=\"quickchart('df-bd7baa54-4124-4a0b-829c-c80596538d01')\"\n",
       "                title=\"Suggest charts\"\n",
       "                style=\"display:none;\">\n",
       "\n",
       "<svg xmlns=\"http://www.w3.org/2000/svg\" height=\"24px\"viewBox=\"0 0 24 24\"\n",
       "     width=\"24px\">\n",
       "    <g>\n",
       "        <path d=\"M19 3H5c-1.1 0-2 .9-2 2v14c0 1.1.9 2 2 2h14c1.1 0 2-.9 2-2V5c0-1.1-.9-2-2-2zM9 17H7v-7h2v7zm4 0h-2V7h2v10zm4 0h-2v-4h2v4z\"/>\n",
       "    </g>\n",
       "</svg>\n",
       "      </button>\n",
       "\n",
       "<style>\n",
       "  .colab-df-quickchart {\n",
       "      --bg-color: #E8F0FE;\n",
       "      --fill-color: #1967D2;\n",
       "      --hover-bg-color: #E2EBFA;\n",
       "      --hover-fill-color: #174EA6;\n",
       "      --disabled-fill-color: #AAA;\n",
       "      --disabled-bg-color: #DDD;\n",
       "  }\n",
       "\n",
       "  [theme=dark] .colab-df-quickchart {\n",
       "      --bg-color: #3B4455;\n",
       "      --fill-color: #D2E3FC;\n",
       "      --hover-bg-color: #434B5C;\n",
       "      --hover-fill-color: #FFFFFF;\n",
       "      --disabled-bg-color: #3B4455;\n",
       "      --disabled-fill-color: #666;\n",
       "  }\n",
       "\n",
       "  .colab-df-quickchart {\n",
       "    background-color: var(--bg-color);\n",
       "    border: none;\n",
       "    border-radius: 50%;\n",
       "    cursor: pointer;\n",
       "    display: none;\n",
       "    fill: var(--fill-color);\n",
       "    height: 32px;\n",
       "    padding: 0;\n",
       "    width: 32px;\n",
       "  }\n",
       "\n",
       "  .colab-df-quickchart:hover {\n",
       "    background-color: var(--hover-bg-color);\n",
       "    box-shadow: 0 1px 2px rgba(60, 64, 67, 0.3), 0 1px 3px 1px rgba(60, 64, 67, 0.15);\n",
       "    fill: var(--button-hover-fill-color);\n",
       "  }\n",
       "\n",
       "  .colab-df-quickchart-complete:disabled,\n",
       "  .colab-df-quickchart-complete:disabled:hover {\n",
       "    background-color: var(--disabled-bg-color);\n",
       "    fill: var(--disabled-fill-color);\n",
       "    box-shadow: none;\n",
       "  }\n",
       "\n",
       "  .colab-df-spinner {\n",
       "    border: 2px solid var(--fill-color);\n",
       "    border-color: transparent;\n",
       "    border-bottom-color: var(--fill-color);\n",
       "    animation:\n",
       "      spin 1s steps(1) infinite;\n",
       "  }\n",
       "\n",
       "  @keyframes spin {\n",
       "    0% {\n",
       "      border-color: transparent;\n",
       "      border-bottom-color: var(--fill-color);\n",
       "      border-left-color: var(--fill-color);\n",
       "    }\n",
       "    20% {\n",
       "      border-color: transparent;\n",
       "      border-left-color: var(--fill-color);\n",
       "      border-top-color: var(--fill-color);\n",
       "    }\n",
       "    30% {\n",
       "      border-color: transparent;\n",
       "      border-left-color: var(--fill-color);\n",
       "      border-top-color: var(--fill-color);\n",
       "      border-right-color: var(--fill-color);\n",
       "    }\n",
       "    40% {\n",
       "      border-color: transparent;\n",
       "      border-right-color: var(--fill-color);\n",
       "      border-top-color: var(--fill-color);\n",
       "    }\n",
       "    60% {\n",
       "      border-color: transparent;\n",
       "      border-right-color: var(--fill-color);\n",
       "    }\n",
       "    80% {\n",
       "      border-color: transparent;\n",
       "      border-right-color: var(--fill-color);\n",
       "      border-bottom-color: var(--fill-color);\n",
       "    }\n",
       "    90% {\n",
       "      border-color: transparent;\n",
       "      border-bottom-color: var(--fill-color);\n",
       "    }\n",
       "  }\n",
       "</style>\n",
       "\n",
       "      <script>\n",
       "        async function quickchart(key) {\n",
       "          const quickchartButtonEl =\n",
       "            document.querySelector('#' + key + ' button');\n",
       "          quickchartButtonEl.disabled = true;  // To prevent multiple clicks.\n",
       "          quickchartButtonEl.classList.add('colab-df-spinner');\n",
       "          try {\n",
       "            const charts = await google.colab.kernel.invokeFunction(\n",
       "                'suggestCharts', [key], {});\n",
       "          } catch (error) {\n",
       "            console.error('Error during call to suggestCharts:', error);\n",
       "          }\n",
       "          quickchartButtonEl.classList.remove('colab-df-spinner');\n",
       "          quickchartButtonEl.classList.add('colab-df-quickchart-complete');\n",
       "        }\n",
       "        (() => {\n",
       "          let quickchartButtonEl =\n",
       "            document.querySelector('#df-bd7baa54-4124-4a0b-829c-c80596538d01 button');\n",
       "          quickchartButtonEl.style.display =\n",
       "            google.colab.kernel.accessAllowed ? 'block' : 'none';\n",
       "        })();\n",
       "      </script>\n",
       "    </div>\n",
       "\n",
       "    </div>\n",
       "  </div>\n"
      ],
      "text/plain": [
       "                                           file_path       label  \\\n",
       "0  C:\\Users\\Travi\\OneDrive\\Documents\\GitHub\\Sprin...      glioma   \n",
       "1  C:\\Users\\Travi\\OneDrive\\Documents\\GitHub\\Sprin...   pituitary   \n",
       "2  C:\\Users\\Travi\\OneDrive\\Documents\\GitHub\\Sprin...  meningioma   \n",
       "3  C:\\Users\\Travi\\OneDrive\\Documents\\GitHub\\Sprin...      glioma   \n",
       "4  C:\\Users\\Travi\\OneDrive\\Documents\\GitHub\\Sprin...     notumor   \n",
       "\n",
       "   binary_label  image_size image_mode  \n",
       "0             1  (224, 224)        RGB  \n",
       "1             1  (224, 224)        RGB  \n",
       "2             1  (224, 224)        RGB  \n",
       "3             1  (224, 224)        RGB  \n",
       "4             0  (224, 224)        RGB  "
      ]
     },
     "execution_count": 6,
     "metadata": {},
     "output_type": "execute_result"
    }
   ],
   "source": [
    "df = pd.read_csv('/content/drive/MyDrive/Springboard_Data_Science_Capstone_Project_3/Image_Dateframe/MRI_Image_Dataframe.csv')\n",
    "df.head()\n"
   ]
  },
  {
   "cell_type": "code",
   "execution_count": 7,
   "id": "YxdGJaS_r1iS",
   "metadata": {
    "colab": {
     "base_uri": "https://localhost:8080/",
     "height": 206
    },
    "id": "YxdGJaS_r1iS",
    "outputId": "0a2cc5ce-438f-4654-cd64-db33851b1f79"
   },
   "outputs": [
    {
     "data": {
      "application/vnd.google.colaboratory.intrinsic+json": {
       "summary": "{\n  \"name\": \"df_copy\",\n  \"rows\": 7023,\n  \"fields\": [\n    {\n      \"column\": \"file_path\",\n      \"properties\": {\n        \"dtype\": \"string\",\n        \"num_unique_values\": 7023,\n        \"samples\": [\n          \"/content/drive/MyDrive/Springboard_Data_Science_Capstone_Project_3/Image_Data/copy_of_original_images/Te-no_0289.jpg\",\n          \"/content/drive/MyDrive/Springboard_Data_Science_Capstone_Project_3/Image_Data/copy_of_original_images/Te-me_0126.jpg\",\n          \"/content/drive/MyDrive/Springboard_Data_Science_Capstone_Project_3/Image_Data/copy_of_original_images/Tr-gl_0315.jpg\"\n        ],\n        \"semantic_type\": \"\",\n        \"description\": \"\"\n      }\n    },\n    {\n      \"column\": \"label\",\n      \"properties\": {\n        \"dtype\": \"category\",\n        \"num_unique_values\": 4,\n        \"samples\": [\n          \"pituitary\",\n          \"notumor\",\n          \"glioma\"\n        ],\n        \"semantic_type\": \"\",\n        \"description\": \"\"\n      }\n    },\n    {\n      \"column\": \"binary_label\",\n      \"properties\": {\n        \"dtype\": \"number\",\n        \"std\": 0,\n        \"min\": 0,\n        \"max\": 1,\n        \"num_unique_values\": 2,\n        \"samples\": [\n          0,\n          1\n        ],\n        \"semantic_type\": \"\",\n        \"description\": \"\"\n      }\n    },\n    {\n      \"column\": \"image_size\",\n      \"properties\": {\n        \"dtype\": \"category\",\n        \"num_unique_values\": 1,\n        \"samples\": [\n          \"(224, 224)\"\n        ],\n        \"semantic_type\": \"\",\n        \"description\": \"\"\n      }\n    },\n    {\n      \"column\": \"image_mode\",\n      \"properties\": {\n        \"dtype\": \"category\",\n        \"num_unique_values\": 1,\n        \"samples\": [\n          \"RGB\"\n        ],\n        \"semantic_type\": \"\",\n        \"description\": \"\"\n      }\n    }\n  ]\n}",
       "type": "dataframe",
       "variable_name": "df_copy"
      },
      "text/html": [
       "\n",
       "  <div id=\"df-3d73aaf0-4a8b-436e-99ac-e88777905bcb\" class=\"colab-df-container\">\n",
       "    <div>\n",
       "<style scoped>\n",
       "    .dataframe tbody tr th:only-of-type {\n",
       "        vertical-align: middle;\n",
       "    }\n",
       "\n",
       "    .dataframe tbody tr th {\n",
       "        vertical-align: top;\n",
       "    }\n",
       "\n",
       "    .dataframe thead th {\n",
       "        text-align: right;\n",
       "    }\n",
       "</style>\n",
       "<table border=\"1\" class=\"dataframe\">\n",
       "  <thead>\n",
       "    <tr style=\"text-align: right;\">\n",
       "      <th></th>\n",
       "      <th>file_path</th>\n",
       "      <th>label</th>\n",
       "      <th>binary_label</th>\n",
       "      <th>image_size</th>\n",
       "      <th>image_mode</th>\n",
       "    </tr>\n",
       "  </thead>\n",
       "  <tbody>\n",
       "    <tr>\n",
       "      <th>0</th>\n",
       "      <td>/content/drive/MyDrive/Springboard_Data_Scienc...</td>\n",
       "      <td>glioma</td>\n",
       "      <td>1</td>\n",
       "      <td>(224, 224)</td>\n",
       "      <td>RGB</td>\n",
       "    </tr>\n",
       "    <tr>\n",
       "      <th>1</th>\n",
       "      <td>/content/drive/MyDrive/Springboard_Data_Scienc...</td>\n",
       "      <td>pituitary</td>\n",
       "      <td>1</td>\n",
       "      <td>(224, 224)</td>\n",
       "      <td>RGB</td>\n",
       "    </tr>\n",
       "    <tr>\n",
       "      <th>2</th>\n",
       "      <td>/content/drive/MyDrive/Springboard_Data_Scienc...</td>\n",
       "      <td>meningioma</td>\n",
       "      <td>1</td>\n",
       "      <td>(224, 224)</td>\n",
       "      <td>RGB</td>\n",
       "    </tr>\n",
       "    <tr>\n",
       "      <th>3</th>\n",
       "      <td>/content/drive/MyDrive/Springboard_Data_Scienc...</td>\n",
       "      <td>glioma</td>\n",
       "      <td>1</td>\n",
       "      <td>(224, 224)</td>\n",
       "      <td>RGB</td>\n",
       "    </tr>\n",
       "    <tr>\n",
       "      <th>4</th>\n",
       "      <td>/content/drive/MyDrive/Springboard_Data_Scienc...</td>\n",
       "      <td>notumor</td>\n",
       "      <td>0</td>\n",
       "      <td>(224, 224)</td>\n",
       "      <td>RGB</td>\n",
       "    </tr>\n",
       "  </tbody>\n",
       "</table>\n",
       "</div>\n",
       "    <div class=\"colab-df-buttons\">\n",
       "\n",
       "  <div class=\"colab-df-container\">\n",
       "    <button class=\"colab-df-convert\" onclick=\"convertToInteractive('df-3d73aaf0-4a8b-436e-99ac-e88777905bcb')\"\n",
       "            title=\"Convert this dataframe to an interactive table.\"\n",
       "            style=\"display:none;\">\n",
       "\n",
       "  <svg xmlns=\"http://www.w3.org/2000/svg\" height=\"24px\" viewBox=\"0 -960 960 960\">\n",
       "    <path d=\"M120-120v-720h720v720H120Zm60-500h600v-160H180v160Zm220 220h160v-160H400v160Zm0 220h160v-160H400v160ZM180-400h160v-160H180v160Zm440 0h160v-160H620v160ZM180-180h160v-160H180v160Zm440 0h160v-160H620v160Z\"/>\n",
       "  </svg>\n",
       "    </button>\n",
       "\n",
       "  <style>\n",
       "    .colab-df-container {\n",
       "      display:flex;\n",
       "      gap: 12px;\n",
       "    }\n",
       "\n",
       "    .colab-df-convert {\n",
       "      background-color: #E8F0FE;\n",
       "      border: none;\n",
       "      border-radius: 50%;\n",
       "      cursor: pointer;\n",
       "      display: none;\n",
       "      fill: #1967D2;\n",
       "      height: 32px;\n",
       "      padding: 0 0 0 0;\n",
       "      width: 32px;\n",
       "    }\n",
       "\n",
       "    .colab-df-convert:hover {\n",
       "      background-color: #E2EBFA;\n",
       "      box-shadow: 0px 1px 2px rgba(60, 64, 67, 0.3), 0px 1px 3px 1px rgba(60, 64, 67, 0.15);\n",
       "      fill: #174EA6;\n",
       "    }\n",
       "\n",
       "    .colab-df-buttons div {\n",
       "      margin-bottom: 4px;\n",
       "    }\n",
       "\n",
       "    [theme=dark] .colab-df-convert {\n",
       "      background-color: #3B4455;\n",
       "      fill: #D2E3FC;\n",
       "    }\n",
       "\n",
       "    [theme=dark] .colab-df-convert:hover {\n",
       "      background-color: #434B5C;\n",
       "      box-shadow: 0px 1px 3px 1px rgba(0, 0, 0, 0.15);\n",
       "      filter: drop-shadow(0px 1px 2px rgba(0, 0, 0, 0.3));\n",
       "      fill: #FFFFFF;\n",
       "    }\n",
       "  </style>\n",
       "\n",
       "    <script>\n",
       "      const buttonEl =\n",
       "        document.querySelector('#df-3d73aaf0-4a8b-436e-99ac-e88777905bcb button.colab-df-convert');\n",
       "      buttonEl.style.display =\n",
       "        google.colab.kernel.accessAllowed ? 'block' : 'none';\n",
       "\n",
       "      async function convertToInteractive(key) {\n",
       "        const element = document.querySelector('#df-3d73aaf0-4a8b-436e-99ac-e88777905bcb');\n",
       "        const dataTable =\n",
       "          await google.colab.kernel.invokeFunction('convertToInteractive',\n",
       "                                                    [key], {});\n",
       "        if (!dataTable) return;\n",
       "\n",
       "        const docLinkHtml = 'Like what you see? Visit the ' +\n",
       "          '<a target=\"_blank\" href=https://colab.research.google.com/notebooks/data_table.ipynb>data table notebook</a>'\n",
       "          + ' to learn more about interactive tables.';\n",
       "        element.innerHTML = '';\n",
       "        dataTable['output_type'] = 'display_data';\n",
       "        await google.colab.output.renderOutput(dataTable, element);\n",
       "        const docLink = document.createElement('div');\n",
       "        docLink.innerHTML = docLinkHtml;\n",
       "        element.appendChild(docLink);\n",
       "      }\n",
       "    </script>\n",
       "  </div>\n",
       "\n",
       "\n",
       "    <div id=\"df-d978f5f9-7755-4103-adfd-f167f7fe7100\">\n",
       "      <button class=\"colab-df-quickchart\" onclick=\"quickchart('df-d978f5f9-7755-4103-adfd-f167f7fe7100')\"\n",
       "                title=\"Suggest charts\"\n",
       "                style=\"display:none;\">\n",
       "\n",
       "<svg xmlns=\"http://www.w3.org/2000/svg\" height=\"24px\"viewBox=\"0 0 24 24\"\n",
       "     width=\"24px\">\n",
       "    <g>\n",
       "        <path d=\"M19 3H5c-1.1 0-2 .9-2 2v14c0 1.1.9 2 2 2h14c1.1 0 2-.9 2-2V5c0-1.1-.9-2-2-2zM9 17H7v-7h2v7zm4 0h-2V7h2v10zm4 0h-2v-4h2v4z\"/>\n",
       "    </g>\n",
       "</svg>\n",
       "      </button>\n",
       "\n",
       "<style>\n",
       "  .colab-df-quickchart {\n",
       "      --bg-color: #E8F0FE;\n",
       "      --fill-color: #1967D2;\n",
       "      --hover-bg-color: #E2EBFA;\n",
       "      --hover-fill-color: #174EA6;\n",
       "      --disabled-fill-color: #AAA;\n",
       "      --disabled-bg-color: #DDD;\n",
       "  }\n",
       "\n",
       "  [theme=dark] .colab-df-quickchart {\n",
       "      --bg-color: #3B4455;\n",
       "      --fill-color: #D2E3FC;\n",
       "      --hover-bg-color: #434B5C;\n",
       "      --hover-fill-color: #FFFFFF;\n",
       "      --disabled-bg-color: #3B4455;\n",
       "      --disabled-fill-color: #666;\n",
       "  }\n",
       "\n",
       "  .colab-df-quickchart {\n",
       "    background-color: var(--bg-color);\n",
       "    border: none;\n",
       "    border-radius: 50%;\n",
       "    cursor: pointer;\n",
       "    display: none;\n",
       "    fill: var(--fill-color);\n",
       "    height: 32px;\n",
       "    padding: 0;\n",
       "    width: 32px;\n",
       "  }\n",
       "\n",
       "  .colab-df-quickchart:hover {\n",
       "    background-color: var(--hover-bg-color);\n",
       "    box-shadow: 0 1px 2px rgba(60, 64, 67, 0.3), 0 1px 3px 1px rgba(60, 64, 67, 0.15);\n",
       "    fill: var(--button-hover-fill-color);\n",
       "  }\n",
       "\n",
       "  .colab-df-quickchart-complete:disabled,\n",
       "  .colab-df-quickchart-complete:disabled:hover {\n",
       "    background-color: var(--disabled-bg-color);\n",
       "    fill: var(--disabled-fill-color);\n",
       "    box-shadow: none;\n",
       "  }\n",
       "\n",
       "  .colab-df-spinner {\n",
       "    border: 2px solid var(--fill-color);\n",
       "    border-color: transparent;\n",
       "    border-bottom-color: var(--fill-color);\n",
       "    animation:\n",
       "      spin 1s steps(1) infinite;\n",
       "  }\n",
       "\n",
       "  @keyframes spin {\n",
       "    0% {\n",
       "      border-color: transparent;\n",
       "      border-bottom-color: var(--fill-color);\n",
       "      border-left-color: var(--fill-color);\n",
       "    }\n",
       "    20% {\n",
       "      border-color: transparent;\n",
       "      border-left-color: var(--fill-color);\n",
       "      border-top-color: var(--fill-color);\n",
       "    }\n",
       "    30% {\n",
       "      border-color: transparent;\n",
       "      border-left-color: var(--fill-color);\n",
       "      border-top-color: var(--fill-color);\n",
       "      border-right-color: var(--fill-color);\n",
       "    }\n",
       "    40% {\n",
       "      border-color: transparent;\n",
       "      border-right-color: var(--fill-color);\n",
       "      border-top-color: var(--fill-color);\n",
       "    }\n",
       "    60% {\n",
       "      border-color: transparent;\n",
       "      border-right-color: var(--fill-color);\n",
       "    }\n",
       "    80% {\n",
       "      border-color: transparent;\n",
       "      border-right-color: var(--fill-color);\n",
       "      border-bottom-color: var(--fill-color);\n",
       "    }\n",
       "    90% {\n",
       "      border-color: transparent;\n",
       "      border-bottom-color: var(--fill-color);\n",
       "    }\n",
       "  }\n",
       "</style>\n",
       "\n",
       "      <script>\n",
       "        async function quickchart(key) {\n",
       "          const quickchartButtonEl =\n",
       "            document.querySelector('#' + key + ' button');\n",
       "          quickchartButtonEl.disabled = true;  // To prevent multiple clicks.\n",
       "          quickchartButtonEl.classList.add('colab-df-spinner');\n",
       "          try {\n",
       "            const charts = await google.colab.kernel.invokeFunction(\n",
       "                'suggestCharts', [key], {});\n",
       "          } catch (error) {\n",
       "            console.error('Error during call to suggestCharts:', error);\n",
       "          }\n",
       "          quickchartButtonEl.classList.remove('colab-df-spinner');\n",
       "          quickchartButtonEl.classList.add('colab-df-quickchart-complete');\n",
       "        }\n",
       "        (() => {\n",
       "          let quickchartButtonEl =\n",
       "            document.querySelector('#df-d978f5f9-7755-4103-adfd-f167f7fe7100 button');\n",
       "          quickchartButtonEl.style.display =\n",
       "            google.colab.kernel.accessAllowed ? 'block' : 'none';\n",
       "        })();\n",
       "      </script>\n",
       "    </div>\n",
       "\n",
       "    </div>\n",
       "  </div>\n"
      ],
      "text/plain": [
       "                                           file_path       label  \\\n",
       "0  /content/drive/MyDrive/Springboard_Data_Scienc...      glioma   \n",
       "1  /content/drive/MyDrive/Springboard_Data_Scienc...   pituitary   \n",
       "2  /content/drive/MyDrive/Springboard_Data_Scienc...  meningioma   \n",
       "3  /content/drive/MyDrive/Springboard_Data_Scienc...      glioma   \n",
       "4  /content/drive/MyDrive/Springboard_Data_Scienc...     notumor   \n",
       "\n",
       "   binary_label  image_size image_mode  \n",
       "0             1  (224, 224)        RGB  \n",
       "1             1  (224, 224)        RGB  \n",
       "2             1  (224, 224)        RGB  \n",
       "3             1  (224, 224)        RGB  \n",
       "4             0  (224, 224)        RGB  "
      ]
     },
     "execution_count": 7,
     "metadata": {},
     "output_type": "execute_result"
    }
   ],
   "source": [
    "# Create copy of original dataframe\n",
    "\n",
    "df_copy = df.copy()\n",
    "\n",
    "# Convert file path from local path to google drive path\n",
    "df_copy['file_path'] = df_copy['file_path'].str.replace(r\"C:\\Users\\Travi\\OneDrive\\Documents\\GitHub\", \"/content/drive/MyDrive\")\n",
    "\n",
    "    # Replace backslashes with forward slashes\n",
    "df_copy['file_path'] =df_copy['file_path'].str.replace(\"\\\\\", \"/\")\n",
    "\n",
    "df_copy.head()"
   ]
  },
  {
   "cell_type": "code",
   "execution_count": 8,
   "id": "046bdb19-711c-4625-9a01-b9b51919309e",
   "metadata": {
    "colab": {
     "base_uri": "https://localhost:8080/"
    },
    "id": "046bdb19-711c-4625-9a01-b9b51919309e",
    "outputId": "bb0c4512-b051-4675-bca0-9b65d6533680"
   },
   "outputs": [
    {
     "name": "stdout",
     "output_type": "stream",
     "text": [
      "Train size: 4916\n",
      "Validation size: 1053\n",
      "Test size: 1054\n"
     ]
    }
   ],
   "source": [
    "# Split full data into train and temp \n",
    "train_df, temp_df = train_test_split(df_copy, test_size=0.3, stratify=df_copy['binary_label'], random_state=42)\n",
    "\n",
    "# Split temp into validation and test\n",
    "val_df, test_df = train_test_split(temp_df, test_size=0.5, stratify=temp_df['binary_label'], random_state=42)\n",
    "\n",
    "print(f\"Train size: {len(train_df)}\")\n",
    "print(f\"Validation size: {len(val_df)}\")\n",
    "print(f\"Test size: {len(test_df)}\")"
   ]
  },
  {
   "cell_type": "markdown",
   "id": "21bfa479-7da7-4191-94b1-ef32d029ae34",
   "metadata": {},
   "source": [
    "I then calculated the class weights to help deal with the slight class imbalance of my dataset."
   ]
  },
  {
   "cell_type": "code",
   "execution_count": 9,
   "id": "OLygSu4P6M95",
   "metadata": {
    "colab": {
     "base_uri": "https://localhost:8080/"
    },
    "id": "OLygSu4P6M95",
    "outputId": "4a7d1d93-3622-442b-a69b-bd53d008f2ec"
   },
   "outputs": [
    {
     "data": {
      "text/plain": [
       "{0: np.float64(1.7557142857142858), 1: np.float64(0.699089874857793)}"
      ]
     },
     "execution_count": 9,
     "metadata": {},
     "output_type": "execute_result"
    }
   ],
   "source": [
    "# Calculate class weights\n",
    "\n",
    "class_weights = class_weight.compute_class_weight(\n",
    "    class_weight='balanced',\n",
    "    classes=np.unique(train_df['binary_label']),\n",
    "    y=train_df['binary_label']\n",
    ")\n",
    "class_weights = dict(enumerate(class_weights))\n",
    "class_weights"
   ]
  },
  {
   "cell_type": "markdown",
   "id": "d6a9ccc3-773d-40b6-b17d-e03cee5326d7",
   "metadata": {},
   "source": [
    "### Define and Build Models"
   ]
  },
  {
   "cell_type": "markdown",
   "id": "9b953655-9f69-4ab4-a914-3f5463d1592c",
   "metadata": {},
   "source": [
    "For this project I wanted to test 3 different models. I wanted to test and EfficientNet model and MobileNet model for transfer learning and I wanted to create a customer CNN to get more fimilar with the sturcture of CNN models.  \n",
    "\n",
    "I started by creating functions to preprocess the data and create datasets for all 3 models."
   ]
  },
  {
   "cell_type": "code",
   "execution_count": 10,
   "id": "ffcb2c3c-27bd-4adb-b09d-4422f6044486",
   "metadata": {
    "id": "ffcb2c3c-27bd-4adb-b09d-4422f6044486"
   },
   "outputs": [],
   "source": [
    "# Function to load and preprocess data for efficientnet, mobilenet, and custom CNN\n",
    "\n",
    "def load_and_preprocess(path, label, model_type=\"efficientnet\", image_size=(224, 224)):\n",
    "    image = tf.io.read_file(path)\n",
    "    image = tf.image.decode_jpeg(image, channels=3)\n",
    "    image = tf.image.resize(image, image_size)  # ensure size is (224, 224)\n",
    "    image = tf.cast(image, tf.float32)\n",
    "\n",
    "    if model_type == \"efficientnet\":\n",
    "        image = efficientnet.preprocess_input(image)\n",
    "    elif model_type == \"mobilenet\":\n",
    "        image = mobilenet_v2.preprocess_input(image)\n",
    "    elif model_type == \"custom\":\n",
    "        image = image / 255.0  # normalize manually for custom CNN\n",
    "\n",
    "    return image, label"
   ]
  },
  {
   "cell_type": "code",
   "execution_count": 11,
   "id": "3e94fd1d-18bd-46f5-ada2-2c9050b93a5f",
   "metadata": {
    "id": "3e94fd1d-18bd-46f5-ada2-2c9050b93a5f"
   },
   "outputs": [],
   "source": [
    "# Function to create dataset for efficientnet, mobilenet, and custom CNN\n",
    "\n",
    "def create_dataset(df, model_type=\"efficientnet\", batch_size=32, shuffle=True):\n",
    "    paths = df[\"file_path\"].astype(str).values\n",
    "    labels = df[\"binary_label\"].astype(np.float32).values\n",
    "\n",
    "    ds = tf.data.Dataset.from_tensor_slices((paths, labels))\n",
    "\n",
    "    ds = ds.map(\n",
    "        lambda x, y: load_and_preprocess(x, y, model_type=model_type),\n",
    "        num_parallel_calls=tf.data.AUTOTUNE)\n",
    "\n",
    "    ds = ds.batch(batch_size).prefetch(tf.data.AUTOTUNE)\n",
    "    return ds"
   ]
  },
  {
   "cell_type": "markdown",
   "id": "cd184935-a07a-4395-8194-70986201fd44",
   "metadata": {},
   "source": [
    "Next, I created the datasets for all 3 models. "
   ]
  },
  {
   "cell_type": "code",
   "execution_count": 12,
   "id": "d375f257-c5ee-4227-a63d-6c5a55c719cc",
   "metadata": {
    "id": "d375f257-c5ee-4227-a63d-6c5a55c719cc"
   },
   "outputs": [],
   "source": [
    "E_net_train_dataset = create_dataset(train_df, model_type=\"efficientnet\")\n",
    "E_net_val_dataset = create_dataset(val_df, model_type=\"efficientnet\", shuffle=False)\n",
    "E_net_test_dataset = create_dataset(test_df, model_type=\"efficientnet\", shuffle=False)"
   ]
  },
  {
   "cell_type": "code",
   "execution_count": 13,
   "id": "862559f6-ebf1-41d4-92c7-ab9ab8e4679a",
   "metadata": {
    "id": "862559f6-ebf1-41d4-92c7-ab9ab8e4679a"
   },
   "outputs": [],
   "source": [
    "M_net_train_dataset = create_dataset(train_df, model_type=\"mobilenet\")\n",
    "M_net_val_dataset = create_dataset(val_df, model_type=\"mobilenet\", shuffle=False)\n",
    "M_net_test_dataset = create_dataset(test_df, model_type=\"mobilenet\", shuffle=False)"
   ]
  },
  {
   "cell_type": "code",
   "execution_count": 14,
   "id": "e0417f41-2a29-400f-b853-2d74ea427af6",
   "metadata": {
    "id": "e0417f41-2a29-400f-b853-2d74ea427af6"
   },
   "outputs": [],
   "source": [
    "custom_train_dataset = create_dataset(train_df, model_type=\"custom\")\n",
    "custom_val_dataset = create_dataset(val_df, model_type=\"custom\", shuffle=False)\n",
    "custom_test_dataset = create_dataset(test_df, model_type=\"custom\", shuffle=False)"
   ]
  },
  {
   "cell_type": "markdown",
   "id": "d6a4c5f0-96e5-46ed-a77f-5e71a47f6d96",
   "metadata": {
    "id": "3aa3bcf7-a8c3-43c4-b7a2-eacaab05d5df"
   },
   "source": [
    "### Custom CNN"
   ]
  },
  {
   "cell_type": "markdown",
   "id": "bbb47d28-b4d1-4a18-9e0d-e9398d966171",
   "metadata": {},
   "source": [
    "I started with building and testing a custom CNN to get a baseline to compare to the transfer learning models. "
   ]
  },
  {
   "cell_type": "code",
   "execution_count": 15,
   "id": "9a221d5b-edee-46fa-abea-60aaeed6bd77",
   "metadata": {
    "id": "9a221d5b-edee-46fa-abea-60aaeed6bd77"
   },
   "outputs": [],
   "source": [
    "# Function for building custom CNN\n",
    "\n",
    "def build_custom_cnn(input_shape=(224, 224, 3)):\n",
    "    model = Sequential([\n",
    "        Input(shape=input_shape),\n",
    "\n",
    "        Conv2D(32, (3, 3), activation='relu', padding='same'),\n",
    "        MaxPooling2D(pool_size=(2, 2)),\n",
    "        BatchNormalization(),\n",
    "\n",
    "        Conv2D(64, (3, 3), activation='relu', padding='same'),\n",
    "        MaxPooling2D(pool_size=(2, 2)),\n",
    "        BatchNormalization(),\n",
    "\n",
    "        Conv2D(128, (3, 3), activation='relu', padding='same'),\n",
    "        MaxPooling2D(pool_size=(2, 2)),\n",
    "        BatchNormalization(),\n",
    "\n",
    "        Flatten(),\n",
    "        Dense(128, activation='relu'),\n",
    "        Dropout(0.5),\n",
    "        Dense(1, activation='sigmoid')\n",
    "    ])\n",
    "\n",
    "    model.compile(optimizer='adam',\n",
    "                  loss='binary_crossentropy',\n",
    "                  metrics=['accuracy'])\n",
    "    return model"
   ]
  },
  {
   "cell_type": "code",
   "execution_count": 16,
   "id": "153a1bbe-f404-4a4e-bbb5-192d12206813",
   "metadata": {
    "colab": {
     "base_uri": "https://localhost:8080/"
    },
    "id": "153a1bbe-f404-4a4e-bbb5-192d12206813",
    "outputId": "83e2b782-4e9b-42f8-c421-f2f55102ad7d"
   },
   "outputs": [
    {
     "name": "stdout",
     "output_type": "stream",
     "text": [
      "Epoch 1/10\n",
      "\u001b[1m154/154\u001b[0m \u001b[32m━━━━━━━━━━━━━━━━━━━━\u001b[0m\u001b[37m\u001b[0m \u001b[1m689s\u001b[0m 4s/step - accuracy: 0.8576 - loss: 2.6038 - val_accuracy: 0.8670 - val_loss: 0.8727\n",
      "Epoch 2/10\n",
      "\u001b[1m154/154\u001b[0m \u001b[32m━━━━━━━━━━━━━━━━━━━━\u001b[0m\u001b[37m\u001b[0m \u001b[1m9s\u001b[0m 57ms/step - accuracy: 0.9045 - loss: 0.4473 - val_accuracy: 0.7977 - val_loss: 5.0795\n",
      "Epoch 3/10\n",
      "\u001b[1m154/154\u001b[0m \u001b[32m━━━━━━━━━━━━━━━━━━━━\u001b[0m\u001b[37m\u001b[0m \u001b[1m9s\u001b[0m 57ms/step - accuracy: 0.9212 - loss: 0.2659 - val_accuracy: 0.8936 - val_loss: 1.0432\n",
      "Epoch 4/10\n",
      "\u001b[1m154/154\u001b[0m \u001b[32m━━━━━━━━━━━━━━━━━━━━\u001b[0m\u001b[37m\u001b[0m \u001b[1m9s\u001b[0m 57ms/step - accuracy: 0.9312 - loss: 0.2949 - val_accuracy: 0.8575 - val_loss: 0.5250\n",
      "Epoch 5/10\n",
      "\u001b[1m154/154\u001b[0m \u001b[32m━━━━━━━━━━━━━━━━━━━━\u001b[0m\u001b[37m\u001b[0m \u001b[1m9s\u001b[0m 57ms/step - accuracy: 0.9383 - loss: 0.2347 - val_accuracy: 0.9535 - val_loss: 0.1914\n",
      "Epoch 6/10\n",
      "\u001b[1m154/154\u001b[0m \u001b[32m━━━━━━━━━━━━━━━━━━━━\u001b[0m\u001b[37m\u001b[0m \u001b[1m9s\u001b[0m 56ms/step - accuracy: 0.9454 - loss: 0.1871 - val_accuracy: 0.9677 - val_loss: 0.1141\n",
      "Epoch 7/10\n",
      "\u001b[1m154/154\u001b[0m \u001b[32m━━━━━━━━━━━━━━━━━━━━\u001b[0m\u001b[37m\u001b[0m \u001b[1m9s\u001b[0m 56ms/step - accuracy: 0.9586 - loss: 0.1173 - val_accuracy: 0.9668 - val_loss: 0.1335\n",
      "Epoch 8/10\n",
      "\u001b[1m154/154\u001b[0m \u001b[32m━━━━━━━━━━━━━━━━━━━━\u001b[0m\u001b[37m\u001b[0m \u001b[1m9s\u001b[0m 56ms/step - accuracy: 0.9596 - loss: 0.1297 - val_accuracy: 0.9516 - val_loss: 0.2141\n",
      "Epoch 9/10\n",
      "\u001b[1m154/154\u001b[0m \u001b[32m━━━━━━━━━━━━━━━━━━━━\u001b[0m\u001b[37m\u001b[0m \u001b[1m9s\u001b[0m 56ms/step - accuracy: 0.9653 - loss: 0.1051 - val_accuracy: 0.5964 - val_loss: 5.1691\n",
      "Epoch 10/10\n",
      "\u001b[1m154/154\u001b[0m \u001b[32m━━━━━━━━━━━━━━━━━━━━\u001b[0m\u001b[37m\u001b[0m \u001b[1m9s\u001b[0m 56ms/step - accuracy: 0.9408 - loss: 0.2147 - val_accuracy: 0.9326 - val_loss: 0.3148\n"
     ]
    }
   ],
   "source": [
    "# Build and train custom CNN\n",
    "\n",
    "custom_cnn_model = build_custom_cnn()\n",
    "\n",
    "custom_history = custom_cnn_model.fit(\n",
    "    custom_train_dataset,\n",
    "    validation_data=custom_val_dataset,\n",
    "    class_weight=class_weights,\n",
    "    epochs=10\n",
    ")"
   ]
  },
  {
   "cell_type": "code",
   "execution_count": 17,
   "id": "2Sqapdj8xAm2",
   "metadata": {
    "colab": {
     "base_uri": "https://localhost:8080/"
    },
    "id": "2Sqapdj8xAm2",
    "outputId": "5f925a74-d4f4-4761-9995-cd73d60f1c5b"
   },
   "outputs": [
    {
     "name": "stdout",
     "output_type": "stream",
     "text": [
      "Confusion Matrix:\n",
      "[[295   5]\n",
      " [ 48 706]]\n",
      "\n",
      "Classification Report:\n",
      "              precision    recall  f1-score   support\n",
      "\n",
      "           0     0.8601    0.9833    0.9176       300\n",
      "           1     0.9930    0.9363    0.9638       754\n",
      "\n",
      "    accuracy                         0.9497      1054\n",
      "   macro avg     0.9265    0.9598    0.9407      1054\n",
      "weighted avg     0.9551    0.9497    0.9507      1054\n",
      "\n"
     ]
    }
   ],
   "source": [
    "# Initialize lists\n",
    "y_true_custom = []\n",
    "y_pred_custom = []\n",
    "\n",
    "# Loop through test dataset and get predictions\n",
    "for images, labels in custom_test_dataset:\n",
    "    preds = custom_cnn_model(images, training=False)  \n",
    "    preds = (preds.numpy() > 0.5).astype(int).flatten()\n",
    "\n",
    "    y_pred_custom.extend(preds)\n",
    "    y_true_custom.extend(labels.numpy().astype(int).flatten())\n",
    "\n",
    "# Evaluate performance\n",
    "print(\"Confusion Matrix:\")\n",
    "print(confusion_matrix(y_true_custom, y_pred_custom))\n",
    "\n",
    "print(\"\\nClassification Report:\")\n",
    "print(classification_report(y_true_custom, y_pred_custom, digits=4))"
   ]
  },
  {
   "cell_type": "markdown",
   "id": "6a4f549a-bf4d-40e6-aa9d-0eb975902cbf",
   "metadata": {
    "id": "03e32a51-f269-444f-9e0f-d2092b70bfe2"
   },
   "source": [
    "### Transfer Learning Models"
   ]
  },
  {
   "cell_type": "markdown",
   "id": "8af46440-4a1f-4c3d-9e48-fcabbba60466",
   "metadata": {},
   "source": [
    "Now that I have a baseline model, I wanted to compare with the transfer learning models. "
   ]
  },
  {
   "cell_type": "code",
   "execution_count": 18,
   "id": "600e75b4-4b18-4eb8-aaba-9d59607b50ab",
   "metadata": {
    "id": "600e75b4-4b18-4eb8-aaba-9d59607b50ab"
   },
   "outputs": [],
   "source": [
    "# Function to build MobileNet model\n",
    "\n",
    "def build_model_mobilenet():\n",
    "    base_model = MobileNetV2(include_top=False, input_shape=(224, 224, 3), weights='imagenet')\n",
    "    base_model.trainable = False  # freeze base\n",
    "\n",
    "    model = tf.keras.Sequential([\n",
    "        base_model,\n",
    "        tf.keras.layers.GlobalAveragePooling2D(),\n",
    "        tf.keras.layers.Dense(128, activation='relu'),\n",
    "        tf.keras.layers.Dropout(0.3),\n",
    "        tf.keras.layers.Dense(1, activation='sigmoid')\n",
    "    ])\n",
    "\n",
    "    model.compile(optimizer='adam',\n",
    "                  loss='binary_crossentropy',\n",
    "                  metrics=['accuracy'])\n",
    "\n",
    "    return model"
   ]
  },
  {
   "cell_type": "code",
   "execution_count": 19,
   "id": "89dc953e-3c65-43ad-8d9a-bc4ea3cf5f2a",
   "metadata": {
    "id": "89dc953e-3c65-43ad-8d9a-bc4ea3cf5f2a"
   },
   "outputs": [],
   "source": [
    "# Function to build EfficientNet model\n",
    "\n",
    "def build_model_efficientnet():\n",
    "    base_model = EfficientNetB0(include_top=False, input_shape=(224, 224, 3), weights='imagenet')\n",
    "    base_model.trainable = False\n",
    "\n",
    "    model = tf.keras.Sequential([\n",
    "        base_model,\n",
    "        tf.keras.layers.GlobalAveragePooling2D(),\n",
    "        tf.keras.layers.Dense(128, activation='relu'),\n",
    "        tf.keras.layers.Dropout(0.3),\n",
    "        tf.keras.layers.Dense(1, activation='sigmoid')\n",
    "    ])\n",
    "\n",
    "    model.compile(optimizer='adam',\n",
    "                  loss='binary_crossentropy',\n",
    "                  metrics=['accuracy'])\n",
    "\n",
    "    return model"
   ]
  },
  {
   "cell_type": "code",
   "execution_count": 20,
   "id": "3f893161-8da5-4be9-9d7b-c02eda25e864",
   "metadata": {
    "colab": {
     "base_uri": "https://localhost:8080/"
    },
    "id": "3f893161-8da5-4be9-9d7b-c02eda25e864",
    "outputId": "54a68d95-3bf9-4093-c3b3-38deaf037999"
   },
   "outputs": [
    {
     "name": "stdout",
     "output_type": "stream",
     "text": [
      "Downloading data from https://storage.googleapis.com/keras-applications/efficientnetb0_notop.h5\n",
      "\u001b[1m16705208/16705208\u001b[0m \u001b[32m━━━━━━━━━━━━━━━━━━━━\u001b[0m\u001b[37m\u001b[0m \u001b[1m1s\u001b[0m 0us/step\n",
      "Epoch 1/10\n",
      "\u001b[1m154/154\u001b[0m \u001b[32m━━━━━━━━━━━━━━━━━━━━\u001b[0m\u001b[37m\u001b[0m \u001b[1m50s\u001b[0m 185ms/step - accuracy: 0.8906 - loss: 0.2454 - val_accuracy: 0.9668 - val_loss: 0.0825\n",
      "Epoch 2/10\n",
      "\u001b[1m154/154\u001b[0m \u001b[32m━━━━━━━━━━━━━━━━━━━━\u001b[0m\u001b[37m\u001b[0m \u001b[1m7s\u001b[0m 47ms/step - accuracy: 0.9719 - loss: 0.0877 - val_accuracy: 0.9772 - val_loss: 0.0682\n",
      "Epoch 3/10\n",
      "\u001b[1m154/154\u001b[0m \u001b[32m━━━━━━━━━━━━━━━━━━━━\u001b[0m\u001b[37m\u001b[0m \u001b[1m7s\u001b[0m 48ms/step - accuracy: 0.9793 - loss: 0.0567 - val_accuracy: 0.9810 - val_loss: 0.0561\n",
      "Epoch 4/10\n",
      "\u001b[1m154/154\u001b[0m \u001b[32m━━━━━━━━━━━━━━━━━━━━\u001b[0m\u001b[37m\u001b[0m \u001b[1m7s\u001b[0m 48ms/step - accuracy: 0.9853 - loss: 0.0446 - val_accuracy: 0.9810 - val_loss: 0.0501\n",
      "Epoch 5/10\n",
      "\u001b[1m154/154\u001b[0m \u001b[32m━━━━━━━━━━━━━━━━━━━━\u001b[0m\u001b[37m\u001b[0m \u001b[1m7s\u001b[0m 47ms/step - accuracy: 0.9881 - loss: 0.0358 - val_accuracy: 0.9839 - val_loss: 0.0468\n",
      "Epoch 6/10\n",
      "\u001b[1m154/154\u001b[0m \u001b[32m━━━━━━━━━━━━━━━━━━━━\u001b[0m\u001b[37m\u001b[0m \u001b[1m7s\u001b[0m 48ms/step - accuracy: 0.9895 - loss: 0.0318 - val_accuracy: 0.9829 - val_loss: 0.0509\n",
      "Epoch 7/10\n",
      "\u001b[1m154/154\u001b[0m \u001b[32m━━━━━━━━━━━━━━━━━━━━\u001b[0m\u001b[37m\u001b[0m \u001b[1m7s\u001b[0m 47ms/step - accuracy: 0.9889 - loss: 0.0282 - val_accuracy: 0.9867 - val_loss: 0.0422\n",
      "Epoch 8/10\n",
      "\u001b[1m154/154\u001b[0m \u001b[32m━━━━━━━━━━━━━━━━━━━━\u001b[0m\u001b[37m\u001b[0m \u001b[1m7s\u001b[0m 47ms/step - accuracy: 0.9937 - loss: 0.0177 - val_accuracy: 0.9848 - val_loss: 0.0477\n",
      "Epoch 9/10\n",
      "\u001b[1m154/154\u001b[0m \u001b[32m━━━━━━━━━━━━━━━━━━━━\u001b[0m\u001b[37m\u001b[0m \u001b[1m7s\u001b[0m 47ms/step - accuracy: 0.9947 - loss: 0.0164 - val_accuracy: 0.9858 - val_loss: 0.0477\n",
      "Epoch 10/10\n",
      "\u001b[1m154/154\u001b[0m \u001b[32m━━━━━━━━━━━━━━━━━━━━\u001b[0m\u001b[37m\u001b[0m \u001b[1m7s\u001b[0m 47ms/step - accuracy: 0.9950 - loss: 0.0132 - val_accuracy: 0.9858 - val_loss: 0.0443\n"
     ]
    }
   ],
   "source": [
    "# Build and train EfficientNet model\n",
    "\n",
    "eff_model = build_model_efficientnet()\n",
    "\n",
    "eff_history = eff_model.fit(E_net_train_dataset, validation_data=E_net_val_dataset,epochs=10)"
   ]
  },
  {
   "cell_type": "code",
   "execution_count": 21,
   "id": "5f9c3077-9dd1-46b8-bbfa-ce3ff25b28fc",
   "metadata": {
    "colab": {
     "base_uri": "https://localhost:8080/"
    },
    "id": "5f9c3077-9dd1-46b8-bbfa-ce3ff25b28fc",
    "outputId": "52963487-ebed-4677-9f3e-e96efb560f71"
   },
   "outputs": [
    {
     "name": "stdout",
     "output_type": "stream",
     "text": [
      "Downloading data from https://storage.googleapis.com/tensorflow/keras-applications/mobilenet_v2/mobilenet_v2_weights_tf_dim_ordering_tf_kernels_1.0_224_no_top.h5\n",
      "\u001b[1m9406464/9406464\u001b[0m \u001b[32m━━━━━━━━━━━━━━━━━━━━\u001b[0m\u001b[37m\u001b[0m \u001b[1m2s\u001b[0m 0us/step\n",
      "Epoch 1/10\n",
      "\u001b[1m154/154\u001b[0m \u001b[32m━━━━━━━━━━━━━━━━━━━━\u001b[0m\u001b[37m\u001b[0m \u001b[1m24s\u001b[0m 103ms/step - accuracy: 0.8912 - loss: 0.2668 - val_accuracy: 0.9725 - val_loss: 0.0964\n",
      "Epoch 2/10\n",
      "\u001b[1m154/154\u001b[0m \u001b[32m━━━━━━━━━━━━━━━━━━━━\u001b[0m\u001b[37m\u001b[0m \u001b[1m8s\u001b[0m 49ms/step - accuracy: 0.9742 - loss: 0.0684 - val_accuracy: 0.9725 - val_loss: 0.0776\n",
      "Epoch 3/10\n",
      "\u001b[1m154/154\u001b[0m \u001b[32m━━━━━━━━━━━━━━━━━━━━\u001b[0m\u001b[37m\u001b[0m \u001b[1m7s\u001b[0m 48ms/step - accuracy: 0.9842 - loss: 0.0405 - val_accuracy: 0.9734 - val_loss: 0.0775\n",
      "Epoch 4/10\n",
      "\u001b[1m154/154\u001b[0m \u001b[32m━━━━━━━━━━━━━━━━━━━━\u001b[0m\u001b[37m\u001b[0m \u001b[1m7s\u001b[0m 48ms/step - accuracy: 0.9930 - loss: 0.0274 - val_accuracy: 0.9848 - val_loss: 0.0463\n",
      "Epoch 5/10\n",
      "\u001b[1m154/154\u001b[0m \u001b[32m━━━━━━━━━━━━━━━━━━━━\u001b[0m\u001b[37m\u001b[0m \u001b[1m7s\u001b[0m 48ms/step - accuracy: 0.9969 - loss: 0.0145 - val_accuracy: 0.9820 - val_loss: 0.0586\n",
      "Epoch 6/10\n",
      "\u001b[1m154/154\u001b[0m \u001b[32m━━━━━━━━━━━━━━━━━━━━\u001b[0m\u001b[37m\u001b[0m \u001b[1m7s\u001b[0m 46ms/step - accuracy: 0.9988 - loss: 0.0079 - val_accuracy: 0.9839 - val_loss: 0.0478\n",
      "Epoch 7/10\n",
      "\u001b[1m154/154\u001b[0m \u001b[32m━━━━━━━━━━━━━━━━━━━━\u001b[0m\u001b[37m\u001b[0m \u001b[1m7s\u001b[0m 48ms/step - accuracy: 0.9972 - loss: 0.0093 - val_accuracy: 0.9886 - val_loss: 0.0398\n",
      "Epoch 8/10\n",
      "\u001b[1m154/154\u001b[0m \u001b[32m━━━━━━━━━━━━━━━━━━━━\u001b[0m\u001b[37m\u001b[0m \u001b[1m7s\u001b[0m 47ms/step - accuracy: 0.9992 - loss: 0.0051 - val_accuracy: 0.9858 - val_loss: 0.0512\n",
      "Epoch 9/10\n",
      "\u001b[1m154/154\u001b[0m \u001b[32m━━━━━━━━━━━━━━━━━━━━\u001b[0m\u001b[37m\u001b[0m \u001b[1m7s\u001b[0m 48ms/step - accuracy: 0.9985 - loss: 0.0055 - val_accuracy: 0.9791 - val_loss: 0.0660\n",
      "Epoch 10/10\n",
      "\u001b[1m154/154\u001b[0m \u001b[32m━━━━━━━━━━━━━━━━━━━━\u001b[0m\u001b[37m\u001b[0m \u001b[1m7s\u001b[0m 48ms/step - accuracy: 0.9998 - loss: 0.0040 - val_accuracy: 0.9896 - val_loss: 0.0463\n"
     ]
    }
   ],
   "source": [
    "# Build and train MobileNet model\n",
    "\n",
    "mob_model = build_model_mobilenet()\n",
    "\n",
    "mob_history = mob_model.fit(M_net_train_dataset, validation_data=M_net_val_dataset,epochs=10)"
   ]
  },
  {
   "cell_type": "code",
   "execution_count": 22,
   "id": "d9ff892f-2b71-442e-b106-fa7cbf0a43c7",
   "metadata": {
    "colab": {
     "base_uri": "https://localhost:8080/"
    },
    "id": "d9ff892f-2b71-442e-b106-fa7cbf0a43c7",
    "outputId": "3eab5ebd-2f50-446d-e336-e180919f41f3"
   },
   "outputs": [
    {
     "name": "stdout",
     "output_type": "stream",
     "text": [
      "\u001b[1m33/33\u001b[0m \u001b[32m━━━━━━━━━━━━━━━━━━━━\u001b[0m\u001b[37m\u001b[0m \u001b[1m5s\u001b[0m 146ms/step - accuracy: 0.9908 - loss: 0.0261\n",
      "Test Accuracy: 0.9886\n"
     ]
    }
   ],
   "source": [
    "# Evaluate testing accuracy\n",
    "\n",
    "test_loss, test_acc = mob_model.evaluate(M_net_test_dataset)\n",
    "print(f\"Test Accuracy: {test_acc:.4f}\")"
   ]
  },
  {
   "cell_type": "code",
   "execution_count": 23,
   "id": "91efaaa9-124a-4b6c-8934-d09f42246572",
   "metadata": {
    "colab": {
     "base_uri": "https://localhost:8080/"
    },
    "id": "91efaaa9-124a-4b6c-8934-d09f42246572",
    "outputId": "11dbd35e-f543-4014-b96a-0507d28ebda3"
   },
   "outputs": [
    {
     "name": "stdout",
     "output_type": "stream",
     "text": [
      "\u001b[1m33/33\u001b[0m \u001b[32m━━━━━━━━━━━━━━━━━━━━\u001b[0m\u001b[37m\u001b[0m \u001b[1m5s\u001b[0m 168ms/step - accuracy: 0.9944 - loss: 0.0203\n",
      "Test Accuracy: 0.9934\n"
     ]
    }
   ],
   "source": [
    "# Evaluate testing accuracy\n",
    "\n",
    "test_loss, test_acc = eff_model.evaluate(E_net_test_dataset)\n",
    "print(f\"Test Accuracy: {test_acc:.4f}\")"
   ]
  },
  {
   "cell_type": "code",
   "execution_count": 24,
   "id": "9ckj-e_Zy0qG",
   "metadata": {
    "id": "9ckj-e_Zy0qG"
   },
   "outputs": [],
   "source": [
    "# Create function to create confusion matrix and classification reports for transfer learning models\n",
    "\n",
    "def evaluate_model(model, test_dataset, model_name=\"Model\"):\n",
    "    y_true = []\n",
    "    y_pred = []\n",
    "\n",
    "    for images, labels in test_dataset:\n",
    "        preds = model(images, training=False)  # Disable dropout/batchnorm updates\n",
    "        preds = (preds.numpy() > 0.5).astype(int).flatten()  # Binary thresholding\n",
    "\n",
    "        y_pred.extend(preds)\n",
    "        y_true.extend(labels.numpy().astype(int).flatten())\n",
    "\n",
    "    # Results\n",
    "    print(f\"=== Evaluation for {model_name} ===\")\n",
    "    print(\"Confusion Matrix:\")\n",
    "    print(confusion_matrix(y_true, y_pred))\n",
    "    print(\"\\nClassification Report:\")\n",
    "    print(classification_report(y_true, y_pred, digits=4))"
   ]
  },
  {
   "cell_type": "code",
   "execution_count": 25,
   "id": "YjEdQgbPy4rU",
   "metadata": {
    "colab": {
     "base_uri": "https://localhost:8080/"
    },
    "id": "YjEdQgbPy4rU",
    "outputId": "3aa66f1f-a13c-44bf-db99-23ac0f167602"
   },
   "outputs": [
    {
     "name": "stdout",
     "output_type": "stream",
     "text": [
      "=== Evaluation for MobileNet ===\n",
      "Confusion Matrix:\n",
      "[[295   5]\n",
      " [  7 747]]\n",
      "\n",
      "Classification Report:\n",
      "              precision    recall  f1-score   support\n",
      "\n",
      "           0     0.9768    0.9833    0.9801       300\n",
      "           1     0.9934    0.9907    0.9920       754\n",
      "\n",
      "    accuracy                         0.9886      1054\n",
      "   macro avg     0.9851    0.9870    0.9860      1054\n",
      "weighted avg     0.9886    0.9886    0.9886      1054\n",
      "\n",
      "=== Evaluation for EfficientNet ===\n",
      "Confusion Matrix:\n",
      "[[298   2]\n",
      " [  5 749]]\n",
      "\n",
      "Classification Report:\n",
      "              precision    recall  f1-score   support\n",
      "\n",
      "           0     0.9835    0.9933    0.9884       300\n",
      "           1     0.9973    0.9934    0.9953       754\n",
      "\n",
      "    accuracy                         0.9934      1054\n",
      "   macro avg     0.9904    0.9934    0.9919      1054\n",
      "weighted avg     0.9934    0.9934    0.9934      1054\n",
      "\n"
     ]
    }
   ],
   "source": [
    "# Evaluate MobileNet model\n",
    "evaluate_model(mob_model, M_net_test_dataset, model_name=\"MobileNet\")\n",
    "\n",
    "# Evaluate EfficientNet model\n",
    "evaluate_model(eff_model, E_net_test_dataset, model_name=\"EfficientNet\")"
   ]
  },
  {
   "cell_type": "markdown",
   "id": "41833e37-fd18-4328-9d32-1b066cfa9088",
   "metadata": {
    "id": "5LBgglYMzbwA"
   },
   "source": [
    "These results look a litte too good to be true and I suspect some overfitting"
   ]
  },
  {
   "cell_type": "code",
   "execution_count": 26,
   "id": "515b5ac8-0dee-413a-94af-062b946ad497",
   "metadata": {
    "colab": {
     "base_uri": "https://localhost:8080/",
     "height": 452
    },
    "id": "515b5ac8-0dee-413a-94af-062b946ad497",
    "outputId": "4f84f52d-2636-4fe6-c086-e110fe59af6e"
   },
   "outputs": [
    {
     "data": {
      "image/png": "[encoded data removed]",
      "text/plain": [
       "<Figure size 640x480 with 1 Axes>"
      ]
     },
     "metadata": {},
     "output_type": "display_data"
    }
   ],
   "source": [
    "# Plotting training accuracy and validation accuacy for EfficientNet model\n",
    "\n",
    "plt.plot(eff_history.history['accuracy'], label='train acc')\n",
    "plt.plot(eff_history.history['val_accuracy'], label='val acc')\n",
    "plt.legend()\n",
    "plt.title(\"Training vs Validation Accuracy\")\n",
    "plt.show()"
   ]
  },
  {
   "cell_type": "code",
   "execution_count": 27,
   "id": "F1-H7TKby98I",
   "metadata": {
    "colab": {
     "base_uri": "https://localhost:8080/",
     "height": 452
    },
    "id": "F1-H7TKby98I",
    "outputId": "50cc9b02-1452-437e-82f4-00f43c6ef47c"
   },
   "outputs": [
    {
     "data": {
      "image/png": "[encoded data removed]",
      "text/plain": [
       "<Figure size 640x480 with 1 Axes>"
      ]
     },
     "metadata": {},
     "output_type": "display_data"
    }
   ],
   "source": [
    "# Plotting training accuracy and validation accuacy for MobileNet model\n",
    "\n",
    "plt.plot(mob_history.history['accuracy'], label='train acc')\n",
    "plt.plot(mob_history.history['val_accuracy'], label='val acc')\n",
    "plt.legend()\n",
    "plt.title(\"Training vs Validation Accuracy\")\n",
    "plt.show()"
   ]
  },
  {
   "cell_type": "markdown",
   "id": "0568e19b-4476-4885-87ac-e9751bde5b23",
   "metadata": {},
   "source": [
    "Next, I investegated the image hashes to determine if we had some dupliciates or near dupliciates that might be leading to overfitting."
   ]
  },
  {
   "cell_type": "code",
   "execution_count": 33,
   "id": "6543b583-0de1-41df-a681-30d24617c939",
   "metadata": {
    "colab": {
     "base_uri": "https://localhost:8080/"
    },
    "id": "6543b583-0de1-41df-a681-30d24617c939",
    "outputId": "3941d4d3-e8dc-4d8c-9c41-24c3d86dbfdc"
   },
   "outputs": [
    {
     "name": "stdout",
     "output_type": "stream",
     "text": [
      "951\n"
     ]
    }
   ],
   "source": [
    "# Investigate image hashes and determine if duplicates are present\n",
    "\n",
    "hashes = defaultdict(list)\n",
    "\n",
    "for path in df_copy['file_path']:\n",
    "    img = Image.open(path)\n",
    "    h = imagehash.average_hash(img)\n",
    "    hashes[str(h)].append(path)\n",
    "\n",
    "# Show duplicates\n",
    "duplicates = {h: paths for h, paths in hashes.items() if len(paths) > 1}\n",
    "print(len(duplicates))"
   ]
  },
  {
   "cell_type": "code",
   "execution_count": 34,
   "id": "43a3c88c-616c-430f-8f55-a8c62640732e",
   "metadata": {
    "colab": {
     "base_uri": "https://localhost:8080/"
    },
    "id": "43a3c88c-616c-430f-8f55-a8c62640732e",
    "outputId": "8fa000e5-8cb1-4871-9e94-8b95ef21a84a"
   },
   "outputs": [
    {
     "name": "stdout",
     "output_type": "stream",
     "text": [
      "Train ∩ Val: 360\n",
      "Train ∩ Test: 352\n",
      "Val ∩ Test: 163\n"
     ]
    }
   ],
   "source": [
    "# Function to determine image hashes of possible duplicates. \n",
    "\n",
    "def get_hashes(df):\n",
    "    return set(\n",
    "        str(imagehash.average_hash(Image.open(p))) for p in df['file_path']\n",
    "    )\n",
    "\n",
    "train_hashes = get_hashes(train_df)\n",
    "val_hashes = get_hashes(val_df)\n",
    "test_hashes = get_hashes(test_df)\n",
    "\n",
    "print(\"Train ∩ Val:\", len(train_hashes & val_hashes))\n",
    "print(\"Train ∩ Test:\", len(train_hashes & test_hashes))\n",
    "print(\"Val ∩ Test:\", len(val_hashes & test_hashes))"
   ]
  },
  {
   "cell_type": "markdown",
   "id": "d08d64ea-155c-437e-936a-257c2a3e2cdd",
   "metadata": {},
   "source": [
    "Since we determined that there was some duplicates, I wanted to drop those duplicates from our train, validate, and test datasets."
   ]
  },
  {
   "cell_type": "code",
   "execution_count": 35,
   "id": "4469dc1f-2b2b-4870-a01f-2dbd17a24182",
   "metadata": {
    "colab": {
     "base_uri": "https://localhost:8080/"
    },
    "id": "4469dc1f-2b2b-4870-a01f-2dbd17a24182",
    "outputId": "22764d75-e1de-4e92-94d4-bd5080b4272b"
   },
   "outputs": [
    {
     "name": "stdout",
     "output_type": "stream",
     "text": [
      "binary_label\n",
      "1    4891\n",
      "0    1706\n",
      "Name: count, dtype: int64\n",
      "Train ∩ Val: 0\n",
      "Train ∩ Test: 0\n",
      "Val ∩ Test: 0\n"
     ]
    }
   ],
   "source": [
    "# Generate hashes based on image content\n",
    "def compute_image_hash(file_path):\n",
    "    with open(file_path, \"rb\") as f:\n",
    "        return hashlib.md5(f.read()).hexdigest()\n",
    "\n",
    "# Apply to full dataframe\n",
    "df_copy[\"image_hash\"] = df_copy[\"file_path\"].apply(compute_image_hash)\n",
    "\n",
    "\n",
    "# Keep only one sample per image_hash\n",
    "dedup_df = df_copy.drop_duplicates(subset=\"image_hash\", keep=\"first\").copy()\n",
    "\n",
    "# Check hash-based class distribution\n",
    "print(dedup_df[\"binary_label\"].value_counts())\n",
    "\n",
    "# Split with no hash overlap\n",
    "train_df_hashes, temp_df = train_test_split(\n",
    "    dedup_df,\n",
    "    test_size=0.3,\n",
    "    stratify=dedup_df[\"binary_label\"],\n",
    "    random_state=42\n",
    ")\n",
    "\n",
    "\n",
    "val_df_hashes, test_df_hashes = train_test_split(\n",
    "    temp_df,\n",
    "    test_size=0.5,\n",
    "    stratify=temp_df[\"binary_label\"],\n",
    "    random_state=42\n",
    ")\n",
    "\n",
    "# Confirm no hash overlaps\n",
    "train_hashes = set(train_df_hashes[\"image_hash\"])\n",
    "val_hashes = set(val_df_hashes[\"image_hash\"])\n",
    "test_hashes = set(test_df_hashes[\"image_hash\"])\n",
    "\n",
    "print(\"Train ∩ Val:\", len(train_hashes & val_hashes))\n",
    "print(\"Train ∩ Test:\", len(train_hashes & test_hashes))\n",
    "print(\"Val ∩ Test:\", len(val_hashes & test_hashes))"
   ]
  },
  {
   "cell_type": "markdown",
   "id": "4aed32de-353c-4af1-830c-c91965f110fe",
   "metadata": {},
   "source": [
    "Now that duplicates have been removed, I created new datasets for both transfer learning models and retrained both models."
   ]
  },
  {
   "cell_type": "code",
   "execution_count": 36,
   "id": "fdf79683-d093-4ce8-b6cf-05316985e649",
   "metadata": {
    "id": "fdf79683-d093-4ce8-b6cf-05316985e649"
   },
   "outputs": [],
   "source": [
    "# Create duplicate free datasets for EfficientNet model\n",
    "\n",
    "E_net_train_dataset_hashes = create_dataset(train_df_hashes, model_type=\"efficientnet\")\n",
    "E_net_val_dataset_hashes = create_dataset(val_df_hashes, model_type=\"efficientnet\", shuffle=False)\n",
    "E_net_test_dataset_hashes = create_dataset(test_df_hashes, model_type=\"efficientnet\", shuffle=False)"
   ]
  },
  {
   "cell_type": "code",
   "execution_count": 37,
   "id": "c6a80c39-57eb-4d6e-9b49-f43a529e9c87",
   "metadata": {
    "colab": {
     "base_uri": "https://localhost:8080/"
    },
    "id": "c6a80c39-57eb-4d6e-9b49-f43a529e9c87",
    "outputId": "000dec61-d4bb-469d-d145-71a15256020d"
   },
   "outputs": [
    {
     "name": "stdout",
     "output_type": "stream",
     "text": [
      "Epoch 1/10\n",
      "\u001b[1m145/145\u001b[0m \u001b[32m━━━━━━━━━━━━━━━━━━━━\u001b[0m\u001b[37m\u001b[0m \u001b[1m44s\u001b[0m 175ms/step - accuracy: 0.9255 - loss: 0.1925 - val_accuracy: 0.9808 - val_loss: 0.0671\n",
      "Epoch 2/10\n",
      "\u001b[1m145/145\u001b[0m \u001b[32m━━━━━━━━━━━━━━━━━━━━\u001b[0m\u001b[37m\u001b[0m \u001b[1m7s\u001b[0m 47ms/step - accuracy: 0.9730 - loss: 0.0743 - val_accuracy: 0.9838 - val_loss: 0.0590\n",
      "Epoch 3/10\n",
      "\u001b[1m145/145\u001b[0m \u001b[32m━━━━━━━━━━━━━━━━━━━━\u001b[0m\u001b[37m\u001b[0m \u001b[1m7s\u001b[0m 48ms/step - accuracy: 0.9842 - loss: 0.0485 - val_accuracy: 0.9818 - val_loss: 0.0543\n",
      "Epoch 4/10\n",
      "\u001b[1m145/145\u001b[0m \u001b[32m━━━━━━━━━━━━━━━━━━━━\u001b[0m\u001b[37m\u001b[0m \u001b[1m7s\u001b[0m 47ms/step - accuracy: 0.9860 - loss: 0.0424 - val_accuracy: 0.9869 - val_loss: 0.0483\n",
      "Epoch 5/10\n",
      "\u001b[1m145/145\u001b[0m \u001b[32m━━━━━━━━━━━━━━━━━━━━\u001b[0m\u001b[37m\u001b[0m \u001b[1m7s\u001b[0m 48ms/step - accuracy: 0.9903 - loss: 0.0332 - val_accuracy: 0.9859 - val_loss: 0.0499\n",
      "Epoch 6/10\n",
      "\u001b[1m145/145\u001b[0m \u001b[32m━━━━━━━━━━━━━━━━━━━━\u001b[0m\u001b[37m\u001b[0m \u001b[1m7s\u001b[0m 48ms/step - accuracy: 0.9913 - loss: 0.0298 - val_accuracy: 0.9859 - val_loss: 0.0450\n",
      "Epoch 7/10\n",
      "\u001b[1m145/145\u001b[0m \u001b[32m━━━━━━━━━━━━━━━━━━━━\u001b[0m\u001b[37m\u001b[0m \u001b[1m7s\u001b[0m 46ms/step - accuracy: 0.9898 - loss: 0.0311 - val_accuracy: 0.9879 - val_loss: 0.0424\n",
      "Epoch 8/10\n",
      "\u001b[1m145/145\u001b[0m \u001b[32m━━━━━━━━━━━━━━━━━━━━\u001b[0m\u001b[37m\u001b[0m \u001b[1m7s\u001b[0m 47ms/step - accuracy: 0.9930 - loss: 0.0247 - val_accuracy: 0.9859 - val_loss: 0.0481\n",
      "Epoch 9/10\n",
      "\u001b[1m145/145\u001b[0m \u001b[32m━━━━━━━━━━━━━━━━━━━━\u001b[0m\u001b[37m\u001b[0m \u001b[1m7s\u001b[0m 47ms/step - accuracy: 0.9939 - loss: 0.0178 - val_accuracy: 0.9859 - val_loss: 0.0455\n",
      "Epoch 10/10\n",
      "\u001b[1m145/145\u001b[0m \u001b[32m━━━━━━━━━━━━━━━━━━━━\u001b[0m\u001b[37m\u001b[0m \u001b[1m7s\u001b[0m 48ms/step - accuracy: 0.9943 - loss: 0.0169 - val_accuracy: 0.9879 - val_loss: 0.0513\n"
     ]
    }
   ],
   "source": [
    "# Retrain EfficientNet model with duplicates removed. \n",
    "\n",
    "eff_model_hashes = build_model_efficientnet()\n",
    "\n",
    "eff_history_hashes = eff_model_hashes.fit(E_net_train_dataset_hashes, validation_data=E_net_val_dataset_hashes, epochs=10)"
   ]
  },
  {
   "cell_type": "code",
   "execution_count": 38,
   "id": "50c95bed-3fb7-494b-91a7-46faf332a9db",
   "metadata": {
    "colab": {
     "base_uri": "https://localhost:8080/"
    },
    "id": "50c95bed-3fb7-494b-91a7-46faf332a9db",
    "outputId": "eee533bf-37c0-41d6-a76b-7d3509722208"
   },
   "outputs": [
    {
     "name": "stdout",
     "output_type": "stream",
     "text": [
      "\u001b[1m31/31\u001b[0m \u001b[32m━━━━━━━━━━━━━━━━━━━━\u001b[0m\u001b[37m\u001b[0m \u001b[1m1s\u001b[0m 40ms/step - accuracy: 0.9920 - loss: 0.0238\n",
      "Test Accuracy: 0.9899\n"
     ]
    }
   ],
   "source": [
    "# Evaluate testing accuracy \n",
    "\n",
    "test_loss, test_acc = eff_model_hashes.evaluate(E_net_test_dataset_hashes)\n",
    "print(f\"Test Accuracy: {test_acc:.4f}\")"
   ]
  },
  {
   "cell_type": "code",
   "execution_count": 39,
   "id": "SyQ8MHvU4WtY",
   "metadata": {
    "colab": {
     "base_uri": "https://localhost:8080/"
    },
    "id": "SyQ8MHvU4WtY",
    "outputId": "437388dc-711e-4ae2-96de-9e8e9ab627f6"
   },
   "outputs": [
    {
     "name": "stdout",
     "output_type": "stream",
     "text": [
      "=== Evaluation for EfficientNet ===\n",
      "Confusion Matrix:\n",
      "[[250   6]\n",
      " [  4 730]]\n",
      "\n",
      "Classification Report:\n",
      "              precision    recall  f1-score   support\n",
      "\n",
      "           0     0.9843    0.9766    0.9804       256\n",
      "           1     0.9918    0.9946    0.9932       734\n",
      "\n",
      "    accuracy                         0.9899       990\n",
      "   macro avg     0.9880    0.9856    0.9868       990\n",
      "weighted avg     0.9899    0.9899    0.9899       990\n",
      "\n"
     ]
    }
   ],
   "source": [
    "# Evaluate confusion matrix and classification report\n",
    "\n",
    "evaluate_model(eff_model_hashes, E_net_test_dataset_hashes, model_name=\"EfficientNet\")"
   ]
  },
  {
   "cell_type": "code",
   "execution_count": 40,
   "id": "47a4ec96-f317-447b-a96f-6b09324cb880",
   "metadata": {
    "id": "47a4ec96-f317-447b-a96f-6b09324cb880"
   },
   "outputs": [],
   "source": [
    "# Create duplicate free datasets for MobileNet model\n",
    "\n",
    "M_net_train_dataset_hashes = create_dataset(train_df_hashes, model_type=\"mobilenet\")\n",
    "M_net_val_dataset_hashes = create_dataset(val_df_hashes, model_type=\"mobilenet\", shuffle=False)\n",
    "M_net_test_dataset_hashes = create_dataset(test_df_hashes, model_type=\"mobilenet\", shuffle=False)"
   ]
  },
  {
   "cell_type": "code",
   "execution_count": 41,
   "id": "1857d044-2d19-46c8-a435-1077a44b3fd2",
   "metadata": {
    "colab": {
     "base_uri": "https://localhost:8080/"
    },
    "id": "1857d044-2d19-46c8-a435-1077a44b3fd2",
    "outputId": "f285b8fd-fc99-4dce-b6f3-bc55d7835aeb"
   },
   "outputs": [
    {
     "name": "stdout",
     "output_type": "stream",
     "text": [
      "Epoch 1/10\n",
      "\u001b[1m145/145\u001b[0m \u001b[32m━━━━━━━━━━━━━━━━━━━━\u001b[0m\u001b[37m\u001b[0m \u001b[1m21s\u001b[0m 98ms/step - accuracy: 0.9035 - loss: 0.2534 - val_accuracy: 0.9747 - val_loss: 0.0794\n",
      "Epoch 2/10\n",
      "\u001b[1m145/145\u001b[0m \u001b[32m━━━━━━━━━━━━━━━━━━━━\u001b[0m\u001b[37m\u001b[0m \u001b[1m7s\u001b[0m 48ms/step - accuracy: 0.9789 - loss: 0.0601 - val_accuracy: 0.9778 - val_loss: 0.0600\n",
      "Epoch 3/10\n",
      "\u001b[1m145/145\u001b[0m \u001b[32m━━━━━━━━━━━━━━━━━━━━\u001b[0m\u001b[37m\u001b[0m \u001b[1m7s\u001b[0m 48ms/step - accuracy: 0.9890 - loss: 0.0386 - val_accuracy: 0.9798 - val_loss: 0.0568\n",
      "Epoch 4/10\n",
      "\u001b[1m145/145\u001b[0m \u001b[32m━━━━━━━━━━━━━━━━━━━━\u001b[0m\u001b[37m\u001b[0m \u001b[1m7s\u001b[0m 47ms/step - accuracy: 0.9921 - loss: 0.0255 - val_accuracy: 0.9798 - val_loss: 0.0513\n",
      "Epoch 5/10\n",
      "\u001b[1m145/145\u001b[0m \u001b[32m━━━━━━━━━━━━━━━━━━━━\u001b[0m\u001b[37m\u001b[0m \u001b[1m7s\u001b[0m 47ms/step - accuracy: 0.9942 - loss: 0.0198 - val_accuracy: 0.9798 - val_loss: 0.0511\n",
      "Epoch 6/10\n",
      "\u001b[1m145/145\u001b[0m \u001b[32m━━━━━━━━━━━━━━━━━━━━\u001b[0m\u001b[37m\u001b[0m \u001b[1m7s\u001b[0m 47ms/step - accuracy: 0.9953 - loss: 0.0156 - val_accuracy: 0.9808 - val_loss: 0.0552\n",
      "Epoch 7/10\n",
      "\u001b[1m145/145\u001b[0m \u001b[32m━━━━━━━━━━━━━━━━━━━━\u001b[0m\u001b[37m\u001b[0m \u001b[1m7s\u001b[0m 48ms/step - accuracy: 0.9949 - loss: 0.0155 - val_accuracy: 0.9818 - val_loss: 0.0523\n",
      "Epoch 8/10\n",
      "\u001b[1m145/145\u001b[0m \u001b[32m━━━━━━━━━━━━━━━━━━━━\u001b[0m\u001b[37m\u001b[0m \u001b[1m7s\u001b[0m 47ms/step - accuracy: 0.9961 - loss: 0.0140 - val_accuracy: 0.9808 - val_loss: 0.0534\n",
      "Epoch 9/10\n",
      "\u001b[1m145/145\u001b[0m \u001b[32m━━━━━━━━━━━━━━━━━━━━\u001b[0m\u001b[37m\u001b[0m \u001b[1m7s\u001b[0m 48ms/step - accuracy: 0.9973 - loss: 0.0072 - val_accuracy: 0.9758 - val_loss: 0.1028\n",
      "Epoch 10/10\n",
      "\u001b[1m145/145\u001b[0m \u001b[32m━━━━━━━━━━━━━━━━━━━━\u001b[0m\u001b[37m\u001b[0m \u001b[1m7s\u001b[0m 48ms/step - accuracy: 0.9964 - loss: 0.0112 - val_accuracy: 0.9747 - val_loss: 0.1114\n"
     ]
    }
   ],
   "source": [
    "# Retrain MobileNet model with duplicates removed. \n",
    "\n",
    "mob_model_hashes = build_model_mobilenet()\n",
    "\n",
    "mob_history_hashes = mob_model_hashes.fit(M_net_train_dataset_hashes, validation_data=M_net_val_dataset_hashes,epochs=10)"
   ]
  },
  {
   "cell_type": "code",
   "execution_count": 42,
   "id": "55df7f9e-6b8d-41d7-9273-c4c2578b41f4",
   "metadata": {
    "colab": {
     "base_uri": "https://localhost:8080/"
    },
    "id": "55df7f9e-6b8d-41d7-9273-c4c2578b41f4",
    "outputId": "0ce408b6-0605-44d6-c509-d4f033944d53"
   },
   "outputs": [
    {
     "name": "stdout",
     "output_type": "stream",
     "text": [
      "\u001b[1m31/31\u001b[0m \u001b[32m━━━━━━━━━━━━━━━━━━━━\u001b[0m\u001b[37m\u001b[0m \u001b[1m1s\u001b[0m 41ms/step - accuracy: 0.9865 - loss: 0.0534\n",
      "Test Accuracy: 0.9869\n"
     ]
    }
   ],
   "source": [
    "# Evaluate testing accuracy \n",
    "\n",
    "test_loss, test_acc = mob_model_hashes.evaluate(M_net_test_dataset_hashes)\n",
    "print(f\"Test Accuracy: {test_acc:.4f}\")"
   ]
  },
  {
   "cell_type": "code",
   "execution_count": 43,
   "id": "YaTa0YAxuTTS",
   "metadata": {
    "colab": {
     "base_uri": "https://localhost:8080/"
    },
    "id": "YaTa0YAxuTTS",
    "outputId": "12abcdf0-0f14-4d5c-c305-a3ea7a65e2ff"
   },
   "outputs": [
    {
     "name": "stdout",
     "output_type": "stream",
     "text": [
      "=== Evaluation for MobileNet ===\n",
      "Confusion Matrix:\n",
      "[[245  11]\n",
      " [  2 732]]\n",
      "\n",
      "Classification Report:\n",
      "              precision    recall  f1-score   support\n",
      "\n",
      "           0     0.9919    0.9570    0.9742       256\n",
      "           1     0.9852    0.9973    0.9912       734\n",
      "\n",
      "    accuracy                         0.9869       990\n",
      "   macro avg     0.9885    0.9772    0.9827       990\n",
      "weighted avg     0.9869    0.9869    0.9868       990\n",
      "\n"
     ]
    }
   ],
   "source": [
    "# Evaluate confusion matrix and classification report\n",
    "\n",
    "evaluate_model(mob_model_hashes, M_net_test_dataset_hashes, model_name=\"MobileNet\")"
   ]
  },
  {
   "cell_type": "markdown",
   "id": "e63c69e9-d33a-4061-92d5-774a0f1e78c0",
   "metadata": {
    "id": "6r9tRw9rpIlE"
   },
   "source": [
    "Both models performed very well on the testing sets. However, I still suspect that there might be some overfitting or data leakage. The next step was to add some augmentation to the training sets and retest performance."
   ]
  },
  {
   "cell_type": "markdown",
   "id": "48ff0d2a-9ef3-4f41-a439-548876ae9036",
   "metadata": {
    "id": "a0128c6a-4c74-49e6-828a-bf3d4a297290"
   },
   "source": [
    "### Data Augmentation"
   ]
  },
  {
   "cell_type": "code",
   "execution_count": 71,
   "id": "b46f4485-a78e-446b-b759-588d551aef1e",
   "metadata": {
    "id": "b46f4485-a78e-446b-b759-588d551aef1e"
   },
   "outputs": [],
   "source": [
    "# Convert binary labels to strings to avoid downstream issues\n",
    "\n",
    "train_df_hashes[\"binary_label\"] = train_df_hashes[\"binary_label\"].astype(str)\n",
    "val_df_hashes[\"binary_label\"] = val_df_hashes[\"binary_label\"].astype(str)\n",
    "test_df_hashes[\"binary_label\"] = test_df_hashes[\"binary_label\"].astype(str)"
   ]
  },
  {
   "cell_type": "code",
   "execution_count": 140,
   "id": "4f9e86b1-6fdc-4a70-8e33-fda74c15b489",
   "metadata": {
    "id": "4f9e86b1-6fdc-4a70-8e33-fda74c15b489"
   },
   "outputs": [],
   "source": [
    "from tensorflow.keras.applications.efficientnet import preprocess_input as effnet_preprocess\n",
    "from tensorflow.keras.applications.mobilenet_v2 import preprocess_input as mobilenet_preprocess\n",
    "\n",
    "# Create augmentation for the training data used in EfficientNet model. \n",
    "\n",
    "train_datagen_eff = ImageDataGenerator(\n",
    "    preprocessing_function=effnet_preprocess,\n",
    "    rotation_range=15,                  # slight rotation\n",
    "    width_shift_range=0.05,             # small horizontal shift\n",
    "    height_shift_range=0.05,            # small vertical shift\n",
    "    zoom_range=0.1,                     # slight zoom in/out\n",
    "    shear_range=0.05,                   # minor shearing\n",
    "    brightness_range=[0.8, 1.2],        # simulate MRI brightness variation\n",
    "    horizontal_flip=True,               \n",
    "    fill_mode='nearest'                 # fill in missing pixels after transform\n",
    ")\n",
    "\n",
    "# Create augmentation for the training data used in MobileNet model. \n",
    "\n",
    "train_datagen_mob = ImageDataGenerator(\n",
    "    preprocessing_function=mobilenet_preprocess,\n",
    "    rotation_range=15,                  # slight rotation\n",
    "    width_shift_range=0.05,             # small horizontal shift\n",
    "    height_shift_range=0.05,            # small vertical shift\n",
    "    zoom_range=0.1,                     # slight zoom in/out\n",
    "    shear_range=0.05,                   # minor shearing\n",
    "    brightness_range=[0.8, 1.2],        # simulate MRI brightness variation\n",
    "    horizontal_flip=True,              \n",
    "    fill_mode='nearest'                 # fill in missing pixels after transform\n",
    ")\n",
    "\n",
    "val_test_datagen_mob = ImageDataGenerator(rescale=1./255)\n",
    "\n",
    "val_test_datagen_eff = ImageDataGenerator(rescale=1./255)"
   ]
  },
  {
   "cell_type": "code",
   "execution_count": 90,
   "id": "e51c60c0-2919-47f1-a0c0-00f1eee8b0ad",
   "metadata": {
    "colab": {
     "base_uri": "https://localhost:8080/"
    },
    "id": "e51c60c0-2919-47f1-a0c0-00f1eee8b0ad",
    "outputId": "41000bfc-b75c-4f9e-f469-cb486f844b64"
   },
   "outputs": [
    {
     "name": "stdout",
     "output_type": "stream",
     "text": [
      "Found 4617 validated image filenames belonging to 2 classes.\n",
      "Found 990 validated image filenames belonging to 2 classes.\n",
      "Found 990 validated image filenames belonging to 2 classes.\n"
     ]
    }
   ],
   "source": [
    "# Create new datasets with augmented images used with the MobileNet model. \n",
    "\n",
    "train_generator_mob = train_datagen_mob.flow_from_dataframe(\n",
    "    dataframe=train_df_hashes,\n",
    "    x_col=\"file_path\",\n",
    "    y_col=\"binary_label\",\n",
    "    target_size=(224, 224),\n",
    "    batch_size=32,\n",
    "    class_mode='binary'\n",
    ")\n",
    "\n",
    "val_generator_mob = val_test_datagen_mob.flow_from_dataframe(\n",
    "    dataframe=val_df_hashes,\n",
    "    x_col=\"file_path\",\n",
    "    y_col=\"binary_label\",\n",
    "    target_size=(224, 224),\n",
    "    batch_size=32,\n",
    "    class_mode='binary',\n",
    "    shuffle=False\n",
    ")\n",
    "\n",
    "test_generator_mob = val_test_datagen_mob.flow_from_dataframe(\n",
    "    dataframe=test_df_hashes,\n",
    "    x_col=\"file_path\",\n",
    "    y_col=\"binary_label\",\n",
    "    target_size=(224, 224),\n",
    "    batch_size=32,\n",
    "    class_mode='binary',\n",
    "    shuffle=False\n",
    ")"
   ]
  },
  {
   "cell_type": "code",
   "execution_count": 92,
   "id": "UuEtK_BavT1p",
   "metadata": {
    "colab": {
     "base_uri": "https://localhost:8080/"
    },
    "id": "UuEtK_BavT1p",
    "outputId": "4325764f-c0ba-4859-bf7b-748ab6a22877"
   },
   "outputs": [
    {
     "name": "stdout",
     "output_type": "stream",
     "text": [
      "Found 4617 validated image filenames belonging to 2 classes.\n",
      "Found 990 validated image filenames belonging to 2 classes.\n",
      "Found 990 validated image filenames belonging to 2 classes.\n"
     ]
    }
   ],
   "source": [
    "# Create new datasets with augmented images used with the EfficientNet model. \n",
    "\n",
    "train_generator_eff = train_datagen_eff.flow_from_dataframe(\n",
    "    dataframe=train_df_hashes,\n",
    "    x_col=\"file_path\",\n",
    "    y_col=\"binary_label\",\n",
    "    target_size=(224, 224),\n",
    "    batch_size=32,\n",
    "    class_mode='binary'\n",
    ")\n",
    "\n",
    "val_generator_eff = val_test_datagen_eff.flow_from_dataframe(\n",
    "    dataframe=val_df_hashes,\n",
    "    x_col=\"file_path\",\n",
    "    y_col=\"binary_label\",\n",
    "    target_size=(224, 224),\n",
    "    batch_size=32,\n",
    "    class_mode='binary',\n",
    "    shuffle=False\n",
    ")\n",
    "\n",
    "test_generator_eff = val_test_datagen_eff.flow_from_dataframe(\n",
    "    dataframe=test_df_hashes,\n",
    "    x_col=\"file_path\",\n",
    "    y_col=\"binary_label\",\n",
    "    target_size=(224, 224),\n",
    "    batch_size=32,\n",
    "    class_mode='binary',\n",
    "    shuffle=False\n",
    ")"
   ]
  },
  {
   "cell_type": "code",
   "execution_count": 94,
   "id": "19a2be40-f3c4-4cb6-9a79-2549756c747a",
   "metadata": {
    "id": "19a2be40-f3c4-4cb6-9a79-2549756c747a"
   },
   "outputs": [],
   "source": [
    "from tensorflow.keras.utils import load_img, img_to_array"
   ]
  },
  {
   "cell_type": "code",
   "execution_count": 98,
   "id": "636f7e3e-082a-465b-af83-625d45ec2cb8",
   "metadata": {
    "colab": {
     "base_uri": "https://localhost:8080/"
    },
    "id": "636f7e3e-082a-465b-af83-625d45ec2cb8",
    "outputId": "764750b7-9dc9-49ff-dfaa-1efa8f1fe25c"
   },
   "outputs": [
    {
     "name": "stderr",
     "output_type": "stream",
     "text": [
      "/usr/local/lib/python3.11/dist-packages/keras/src/trainers/data_adapters/py_dataset_adapter.py:121: UserWarning: Your `PyDataset` class should call `super().__init__(**kwargs)` in its constructor. `**kwargs` can include `workers`, `use_multiprocessing`, `max_queue_size`. Do not pass these arguments to `fit()`, as they will be ignored.\n",
      "  self._warn_if_super_not_called()\n"
     ]
    },
    {
     "name": "stdout",
     "output_type": "stream",
     "text": [
      "Epoch 1/10\n",
      "\u001b[1m145/145\u001b[0m \u001b[32m━━━━━━━━━━━━━━━━━━━━\u001b[0m\u001b[37m\u001b[0m \u001b[1m97s\u001b[0m 541ms/step - accuracy: 0.9140 - loss: 0.2224 - val_accuracy: 0.7414 - val_loss: 0.6072\n",
      "Epoch 2/10\n",
      "\u001b[1m145/145\u001b[0m \u001b[32m━━━━━━━━━━━━━━━━━━━━\u001b[0m\u001b[37m\u001b[0m \u001b[1m65s\u001b[0m 449ms/step - accuracy: 0.9665 - loss: 0.0994 - val_accuracy: 0.7414 - val_loss: 0.6894\n",
      "Epoch 3/10\n",
      "\u001b[1m145/145\u001b[0m \u001b[32m━━━━━━━━━━━━━━━━━━━━\u001b[0m\u001b[37m\u001b[0m \u001b[1m64s\u001b[0m 442ms/step - accuracy: 0.9805 - loss: 0.0648 - val_accuracy: 0.7414 - val_loss: 0.7395\n",
      "Epoch 4/10\n",
      "\u001b[1m145/145\u001b[0m \u001b[32m━━━━━━━━━━━━━━━━━━━━\u001b[0m\u001b[37m\u001b[0m \u001b[1m64s\u001b[0m 438ms/step - accuracy: 0.9832 - loss: 0.0567 - val_accuracy: 0.7414 - val_loss: 0.7146\n",
      "Epoch 5/10\n",
      "\u001b[1m145/145\u001b[0m \u001b[32m━━━━━━━━━━━━━━━━━━━━\u001b[0m\u001b[37m\u001b[0m \u001b[1m63s\u001b[0m 436ms/step - accuracy: 0.9833 - loss: 0.0432 - val_accuracy: 0.7414 - val_loss: 0.8901\n",
      "Epoch 6/10\n",
      "\u001b[1m145/145\u001b[0m \u001b[32m━━━━━━━━━━━━━━━━━━━━\u001b[0m\u001b[37m\u001b[0m \u001b[1m63s\u001b[0m 437ms/step - accuracy: 0.9822 - loss: 0.0529 - val_accuracy: 0.7414 - val_loss: 0.7499\n",
      "Epoch 7/10\n",
      "\u001b[1m145/145\u001b[0m \u001b[32m━━━━━━━━━━━━━━━━━━━━\u001b[0m\u001b[37m\u001b[0m \u001b[1m63s\u001b[0m 436ms/step - accuracy: 0.9872 - loss: 0.0342 - val_accuracy: 0.7414 - val_loss: 0.6158\n",
      "Epoch 8/10\n",
      "\u001b[1m145/145\u001b[0m \u001b[32m━━━━━━━━━━━━━━━━━━━━\u001b[0m\u001b[37m\u001b[0m \u001b[1m63s\u001b[0m 432ms/step - accuracy: 0.9868 - loss: 0.0356 - val_accuracy: 0.7414 - val_loss: 0.7745\n",
      "Epoch 9/10\n",
      "\u001b[1m145/145\u001b[0m \u001b[32m━━━━━━━━━━━━━━━━━━━━\u001b[0m\u001b[37m\u001b[0m \u001b[1m62s\u001b[0m 429ms/step - accuracy: 0.9928 - loss: 0.0286 - val_accuracy: 0.7414 - val_loss: 0.9567\n",
      "Epoch 10/10\n",
      "\u001b[1m145/145\u001b[0m \u001b[32m━━━━━━━━━━━━━━━━━━━━\u001b[0m\u001b[37m\u001b[0m \u001b[1m62s\u001b[0m 430ms/step - accuracy: 0.9876 - loss: 0.0325 - val_accuracy: 0.7414 - val_loss: 0.8496\n"
     ]
    }
   ],
   "source": [
    "# Create and train EfficientNet model with augmented data\n",
    "\n",
    "eff_model_augmented = build_model_efficientnet()\n",
    "\n",
    "eff_history_augmented = eff_model_augmented.fit(train_generator_eff, validation_data=val_generator_eff, class_weight=class_weights, epochs=10)"
   ]
  },
  {
   "cell_type": "code",
   "execution_count": 99,
   "id": "1b38bfc8-8274-4b0e-b748-617b70dcef90",
   "metadata": {
    "colab": {
     "base_uri": "https://localhost:8080/"
    },
    "id": "1b38bfc8-8274-4b0e-b748-617b70dcef90",
    "outputId": "016cdf19-df90-472a-8d29-cf5da3063f10"
   },
   "outputs": [
    {
     "name": "stdout",
     "output_type": "stream",
     "text": [
      "Epoch 1/10\n",
      "\u001b[1m145/145\u001b[0m \u001b[32m━━━━━━━━━━━━━━━━━━━━\u001b[0m\u001b[37m\u001b[0m \u001b[1m77s\u001b[0m 475ms/step - accuracy: 0.9142 - loss: 0.2177 - val_accuracy: 0.9556 - val_loss: 0.1270\n",
      "Epoch 2/10\n",
      "\u001b[1m145/145\u001b[0m \u001b[32m━━━━━━━━━━━━━━━━━━━━\u001b[0m\u001b[37m\u001b[0m \u001b[1m63s\u001b[0m 433ms/step - accuracy: 0.9811 - loss: 0.0647 - val_accuracy: 0.9596 - val_loss: 0.1170\n",
      "Epoch 3/10\n",
      "\u001b[1m145/145\u001b[0m \u001b[32m━━━━━━━━━━━━━━━━━━━━\u001b[0m\u001b[37m\u001b[0m \u001b[1m62s\u001b[0m 426ms/step - accuracy: 0.9737 - loss: 0.0821 - val_accuracy: 0.9384 - val_loss: 0.1779\n",
      "Epoch 4/10\n",
      "\u001b[1m145/145\u001b[0m \u001b[32m━━━━━━━━━━━━━━━━━━━━\u001b[0m\u001b[37m\u001b[0m \u001b[1m62s\u001b[0m 430ms/step - accuracy: 0.9788 - loss: 0.0638 - val_accuracy: 0.9616 - val_loss: 0.1064\n",
      "Epoch 5/10\n",
      "\u001b[1m145/145\u001b[0m \u001b[32m━━━━━━━━━━━━━━━━━━━━\u001b[0m\u001b[37m\u001b[0m \u001b[1m63s\u001b[0m 433ms/step - accuracy: 0.9836 - loss: 0.0469 - val_accuracy: 0.9737 - val_loss: 0.0772\n",
      "Epoch 6/10\n",
      "\u001b[1m145/145\u001b[0m \u001b[32m━━━━━━━━━━━━━━━━━━━━\u001b[0m\u001b[37m\u001b[0m \u001b[1m63s\u001b[0m 431ms/step - accuracy: 0.9883 - loss: 0.0406 - val_accuracy: 0.9606 - val_loss: 0.1035\n",
      "Epoch 7/10\n",
      "\u001b[1m145/145\u001b[0m \u001b[32m━━━━━━━━━━━━━━━━━━━━\u001b[0m\u001b[37m\u001b[0m \u001b[1m62s\u001b[0m 429ms/step - accuracy: 0.9908 - loss: 0.0300 - val_accuracy: 0.9596 - val_loss: 0.1120\n",
      "Epoch 8/10\n",
      "\u001b[1m145/145\u001b[0m \u001b[32m━━━━━━━━━━━━━━━━━━━━\u001b[0m\u001b[37m\u001b[0m \u001b[1m62s\u001b[0m 430ms/step - accuracy: 0.9843 - loss: 0.0404 - val_accuracy: 0.9657 - val_loss: 0.0961\n",
      "Epoch 9/10\n",
      "\u001b[1m145/145\u001b[0m \u001b[32m━━━━━━━━━━━━━━━━━━━━\u001b[0m\u001b[37m\u001b[0m \u001b[1m63s\u001b[0m 431ms/step - accuracy: 0.9896 - loss: 0.0287 - val_accuracy: 0.9667 - val_loss: 0.1100\n",
      "Epoch 10/10\n",
      "\u001b[1m145/145\u001b[0m \u001b[32m━━━━━━━━━━━━━━━━━━━━\u001b[0m\u001b[37m\u001b[0m \u001b[1m63s\u001b[0m 432ms/step - accuracy: 0.9884 - loss: 0.0346 - val_accuracy: 0.9455 - val_loss: 0.1534\n"
     ]
    }
   ],
   "source": [
    "# Create and train MobileNet model with augmented data\n",
    "\n",
    "mob_model_augmented = build_model_mobilenet()\n",
    "\n",
    "mob_history_augmented = mob_model_augmented.fit(train_generator_mob, validation_data=val_generator_mob, class_weight=class_weights, epochs=10)"
   ]
  },
  {
   "cell_type": "code",
   "execution_count": 125,
   "id": "tTET2FnCCiCt",
   "metadata": {
    "id": "tTET2FnCCiCt"
   },
   "outputs": [],
   "source": [
    "# Function to create confusion matrix and classification report for augmented models\n",
    "\n",
    "def evaluate_model_on_generator(model, generator, model_name=\"Model\"):\n",
    "    # Get ground truth labels\n",
    "    y_true = generator.classes\n",
    "\n",
    "    # Predict probabilities\n",
    "    y_prob = model.predict(generator, verbose=1)\n",
    "\n",
    "    # Convert probabilities to class labels (binary threshold at 0.5)\n",
    "    y_pred = (y_prob > 0.3).astype(int).flatten()\n",
    "\n",
    "    # Report\n",
    "    print(f\"\\n=== Evaluation for {model_name} ===\")\n",
    "    print(\"Confusion Matrix:\")\n",
    "    print(confusion_matrix(y_true, y_pred))\n",
    "    print(\"\\nClassification Report:\")\n",
    "    print(classification_report(y_true, y_pred, digits=4))"
   ]
  },
  {
   "cell_type": "code",
   "execution_count": 126,
   "id": "74110802-2566-496f-b340-08b7634b5287",
   "metadata": {
    "colab": {
     "base_uri": "https://localhost:8080/"
    },
    "id": "74110802-2566-496f-b340-08b7634b5287",
    "outputId": "d94b4483-70e9-4694-fa73-6d51120fce59"
   },
   "outputs": [
    {
     "name": "stdout",
     "output_type": "stream",
     "text": [
      "\u001b[1m31/31\u001b[0m \u001b[32m━━━━━━━━━━━━━━━━━━━━\u001b[0m\u001b[37m\u001b[0m \u001b[1m3s\u001b[0m 80ms/step\n",
      "\n",
      "=== Evaluation for MobileNet ===\n",
      "Confusion Matrix:\n",
      "[[197  59]\n",
      " [  2 732]]\n",
      "\n",
      "Classification Report:\n",
      "              precision    recall  f1-score   support\n",
      "\n",
      "           0     0.9899    0.7695    0.8659       256\n",
      "           1     0.9254    0.9973    0.9600       734\n",
      "\n",
      "    accuracy                         0.9384       990\n",
      "   macro avg     0.9577    0.8834    0.9130       990\n",
      "weighted avg     0.9421    0.9384    0.9357       990\n",
      "\n"
     ]
    }
   ],
   "source": [
    "# Confusion matrix and Classification report for MobileNet model.\n",
    "\n",
    "evaluate_model_on_generator(mob_model_augmented, test_generator_mob, model_name=\"MobileNet\")"
   ]
  },
  {
   "cell_type": "code",
   "execution_count": 127,
   "id": "iVKe4N6iD09z",
   "metadata": {
    "colab": {
     "base_uri": "https://localhost:8080/"
    },
    "id": "iVKe4N6iD09z",
    "outputId": "a8cf99f1-6bb5-4f75-adf7-f4ba220aff2f"
   },
   "outputs": [
    {
     "name": "stdout",
     "output_type": "stream",
     "text": [
      "\u001b[1m31/31\u001b[0m \u001b[32m━━━━━━━━━━━━━━━━━━━━\u001b[0m\u001b[37m\u001b[0m \u001b[1m3s\u001b[0m 83ms/step\n",
      "\n",
      "=== Evaluation for EfficientNet ===\n",
      "Confusion Matrix:\n",
      "[[  0 256]\n",
      " [  0 734]]\n",
      "\n",
      "Classification Report:\n",
      "              precision    recall  f1-score   support\n",
      "\n",
      "           0     0.0000    0.0000    0.0000       256\n",
      "           1     0.7414    1.0000    0.8515       734\n",
      "\n",
      "    accuracy                         0.7414       990\n",
      "   macro avg     0.3707    0.5000    0.4258       990\n",
      "weighted avg     0.5497    0.7414    0.6313       990\n",
      "\n"
     ]
    },
    {
     "name": "stderr",
     "output_type": "stream",
     "text": [
      "/usr/local/lib/python3.11/dist-packages/sklearn/metrics/_classification.py:1565: UndefinedMetricWarning: Precision is ill-defined and being set to 0.0 in labels with no predicted samples. Use `zero_division` parameter to control this behavior.\n",
      "  _warn_prf(average, modifier, f\"{metric.capitalize()} is\", len(result))\n",
      "/usr/local/lib/python3.11/dist-packages/sklearn/metrics/_classification.py:1565: UndefinedMetricWarning: Precision is ill-defined and being set to 0.0 in labels with no predicted samples. Use `zero_division` parameter to control this behavior.\n",
      "  _warn_prf(average, modifier, f\"{metric.capitalize()} is\", len(result))\n",
      "/usr/local/lib/python3.11/dist-packages/sklearn/metrics/_classification.py:1565: UndefinedMetricWarning: Precision is ill-defined and being set to 0.0 in labels with no predicted samples. Use `zero_division` parameter to control this behavior.\n",
      "  _warn_prf(average, modifier, f\"{metric.capitalize()} is\", len(result))\n"
     ]
    }
   ],
   "source": [
    "# Confusion matrix and Classification report for EfficientNet model.\n",
    "\n",
    "evaluate_model_on_generator(eff_model_augmented, test_generator_eff, model_name=\"EfficientNet\")"
   ]
  },
  {
   "cell_type": "markdown",
   "id": "d5acb0f7-280f-4f12-ad4c-dcae7abdf45b",
   "metadata": {
    "id": "21fca38d-80d6-4822-9323-6e7ca95741e3"
   },
   "source": [
    "As we can see, the MobileNet model still preformed very well. However, there appears to be a deeper issue with the EfficientNet model.  \n",
    "\n",
    "Lets investegate that model.  \n",
    "\n",
    "I started by unfreezing and tuning some top layers of the base model to see if there was an improvement."
   ]
  },
  {
   "cell_type": "code",
   "execution_count": null,
   "id": "05d49600-d300-4632-be81-21d6691151ff",
   "metadata": {
    "id": "05d49600-d300-4632-be81-21d6691151ff"
   },
   "outputs": [],
   "source": [
    "from tensorflow.keras.applications import EfficientNetB0\n",
    "\n",
    "# Create base EfficientNet model \n",
    "\n",
    "base_model = EfficientNetB0(include_top=False, weights='imagenet', input_shape=(224, 224, 3), pooling='avg')\n",
    "base_model.trainable = False  # Initially freeze"
   ]
  },
  {
   "cell_type": "code",
   "execution_count": 144,
   "id": "r6hDJtVzMLG-",
   "metadata": {
    "colab": {
     "base_uri": "https://localhost:8080/"
    },
    "id": "r6hDJtVzMLG-",
    "outputId": "8de3ecc6-9679-4689-e703-3bfb5ea6685c"
   },
   "outputs": [
    {
     "name": "stdout",
     "output_type": "stream",
     "text": [
      "Epoch 1/10\n",
      "\u001b[1m145/145\u001b[0m \u001b[32m━━━━━━━━━━━━━━━━━━━━\u001b[0m\u001b[37m\u001b[0m \u001b[1m0s\u001b[0m 460ms/step - accuracy: 0.8060 - loss: 0.3935"
     ]
    },
    {
     "name": "stderr",
     "output_type": "stream",
     "text": [
      "WARNING:absl:You are saving your model as an HDF5 file via `model.save()` or `keras.saving.save_model(model)`. This file format is considered legacy. We recommend using instead the native Keras format, e.g. `model.save('my_model.keras')` or `keras.saving.save_model(model, 'my_model.keras')`. \n"
     ]
    },
    {
     "name": "stdout",
     "output_type": "stream",
     "text": [
      "\b\b\b\b\b\b\b\b\b\b\b\b\b\b\b\b\b\b\b\b\b\b\b\b\b\b\b\b\b\b\b\b\b\b\b\b\b\b\b\b\b\b\b\b\b\b\b\b\b\b\b\b\b\b\b\b\b\b\b\b\b\b\b\b\b\b\b\b\b\b\b\b\b\b\b\b\r",
      "\u001b[1m145/145\u001b[0m \u001b[32m━━━━━━━━━━━━━━━━━━━━\u001b[0m\u001b[37m\u001b[0m \u001b[1m96s\u001b[0m 541ms/step - accuracy: 0.8067 - loss: 0.3926 - val_accuracy: 0.7414 - val_loss: 0.5821 - learning_rate: 1.0000e-04\n",
      "Epoch 2/10\n",
      "\u001b[1m145/145\u001b[0m \u001b[32m━━━━━━━━━━━━━━━━━━━━\u001b[0m\u001b[37m\u001b[0m \u001b[1m0s\u001b[0m 418ms/step - accuracy: 0.9609 - loss: 0.1293"
     ]
    },
    {
     "name": "stderr",
     "output_type": "stream",
     "text": [
      "WARNING:absl:You are saving your model as an HDF5 file via `model.save()` or `keras.saving.save_model(model)`. This file format is considered legacy. We recommend using instead the native Keras format, e.g. `model.save('my_model.keras')` or `keras.saving.save_model(model, 'my_model.keras')`. \n"
     ]
    },
    {
     "name": "stdout",
     "output_type": "stream",
     "text": [
      "\b\b\b\b\b\b\b\b\b\b\b\b\b\b\b\b\b\b\b\b\b\b\b\b\b\b\b\b\b\b\b\b\b\b\b\b\b\b\b\b\b\b\b\b\b\b\b\b\b\b\b\b\b\b\b\b\b\b\b\b\b\b\b\b\b\b\b\b\b\b\b\b\b\b\b\b\r",
      "\u001b[1m145/145\u001b[0m \u001b[32m━━━━━━━━━━━━━━━━━━━━\u001b[0m\u001b[37m\u001b[0m \u001b[1m64s\u001b[0m 440ms/step - accuracy: 0.9609 - loss: 0.1292 - val_accuracy: 0.7414 - val_loss: 0.5749 - learning_rate: 1.0000e-04\n",
      "Epoch 3/10\n",
      "\u001b[1m145/145\u001b[0m \u001b[32m━━━━━━━━━━━━━━━━━━━━\u001b[0m\u001b[37m\u001b[0m \u001b[1m63s\u001b[0m 436ms/step - accuracy: 0.9676 - loss: 0.1103 - val_accuracy: 0.7414 - val_loss: 0.5876 - learning_rate: 1.0000e-04\n",
      "Epoch 4/10\n",
      "\u001b[1m145/145\u001b[0m \u001b[32m━━━━━━━━━━━━━━━━━━━━\u001b[0m\u001b[37m\u001b[0m \u001b[1m0s\u001b[0m 415ms/step - accuracy: 0.9761 - loss: 0.0740\n",
      "Epoch 4: ReduceLROnPlateau reducing learning rate to 4.999999873689376e-05.\n",
      "\u001b[1m145/145\u001b[0m \u001b[32m━━━━━━━━━━━━━━━━━━━━\u001b[0m\u001b[37m\u001b[0m \u001b[1m63s\u001b[0m 432ms/step - accuracy: 0.9761 - loss: 0.0741 - val_accuracy: 0.7414 - val_loss: 0.5913 - learning_rate: 1.0000e-04\n",
      "Epoch 5/10\n",
      "\u001b[1m145/145\u001b[0m \u001b[32m━━━━━━━━━━━━━━━━━━━━\u001b[0m\u001b[37m\u001b[0m \u001b[1m63s\u001b[0m 433ms/step - accuracy: 0.9678 - loss: 0.0924 - val_accuracy: 0.7414 - val_loss: 0.5912 - learning_rate: 5.0000e-05\n",
      "Epoch 1/10\n",
      "\u001b[1m145/145\u001b[0m \u001b[32m━━━━━━━━━━━━━━━━━━━━\u001b[0m\u001b[37m\u001b[0m \u001b[1m0s\u001b[0m 515ms/step - accuracy: 0.8505 - loss: 0.3308"
     ]
    },
    {
     "name": "stderr",
     "output_type": "stream",
     "text": [
      "WARNING:absl:You are saving your model as an HDF5 file via `model.save()` or `keras.saving.save_model(model)`. This file format is considered legacy. We recommend using instead the native Keras format, e.g. `model.save('my_model.keras')` or `keras.saving.save_model(model, 'my_model.keras')`. \n"
     ]
    },
    {
     "name": "stdout",
     "output_type": "stream",
     "text": [
      "\b\b\b\b\b\b\b\b\b\b\b\b\b\b\b\b\b\b\b\b\b\b\b\b\b\b\b\b\b\b\b\b\b\b\b\b\b\b\b\b\b\b\b\b\b\b\b\b\b\b\b\b\b\b\b\b\b\b\b\b\b\b\b\b\b\b\b\b\b\b\b\b\b\b\b\b\r",
      "\u001b[1m145/145\u001b[0m \u001b[32m━━━━━━━━━━━━━━━━━━━━\u001b[0m\u001b[37m\u001b[0m \u001b[1m124s\u001b[0m 597ms/step - accuracy: 0.8509 - loss: 0.3304 - val_accuracy: 0.7414 - val_loss: 0.6522 - learning_rate: 1.0000e-05\n",
      "Epoch 2/10\n",
      "\u001b[1m145/145\u001b[0m \u001b[32m━━━━━━━━━━━━━━━━━━━━\u001b[0m\u001b[37m\u001b[0m \u001b[1m63s\u001b[0m 437ms/step - accuracy: 0.9631 - loss: 0.1535 - val_accuracy: 0.7414 - val_loss: 0.6638 - learning_rate: 1.0000e-05\n",
      "Epoch 3/10\n",
      "\u001b[1m145/145\u001b[0m \u001b[32m━━━━━━━━━━━━━━━━━━━━\u001b[0m\u001b[37m\u001b[0m \u001b[1m0s\u001b[0m 418ms/step - accuracy: 0.9699 - loss: 0.1116\n",
      "Epoch 3: ReduceLROnPlateau reducing learning rate to 4.999999873689376e-06.\n",
      "\u001b[1m145/145\u001b[0m \u001b[32m━━━━━━━━━━━━━━━━━━━━\u001b[0m\u001b[37m\u001b[0m \u001b[1m63s\u001b[0m 437ms/step - accuracy: 0.9699 - loss: 0.1116 - val_accuracy: 0.7414 - val_loss: 0.6751 - learning_rate: 1.0000e-05\n",
      "Epoch 4/10\n",
      "\u001b[1m145/145\u001b[0m \u001b[32m━━━━━━━━━━━━━━━━━━━━\u001b[0m\u001b[37m\u001b[0m \u001b[1m63s\u001b[0m 435ms/step - accuracy: 0.9755 - loss: 0.0835 - val_accuracy: 0.7414 - val_loss: 0.6801 - learning_rate: 5.0000e-06\n"
     ]
    }
   ],
   "source": [
    "from tensorflow.keras.callbacks import EarlyStopping, ReduceLROnPlateau, ModelCheckpoint\n",
    "\n",
    "# Freeze base model\n",
    "\n",
    "base_model = EfficientNetB0(include_top=False, input_shape=(224, 224, 3), weights='imagenet', pooling='avg')\n",
    "base_model.trainable = False\n",
    "\n",
    "inputs = Input(shape=(224, 224, 3))\n",
    "x = base_model(inputs, training=False)  # Output shape: [batch_size, 1280]\n",
    "x = Dense(128, activation='relu')(x)\n",
    "x = Dropout(0.3)(x)\n",
    "outputs = Dense(1, activation='sigmoid')(x)  # Binary classification output\n",
    "\n",
    "eff_model_augmented = Model(inputs, outputs)\n",
    "\n",
    "# Compile model with higher LR\n",
    "eff_model_augmented.compile(\n",
    "    optimizer=Adam(learning_rate=1e-4),\n",
    "    loss='binary_crossentropy',  # Your custom focal loss function\n",
    "    metrics=['accuracy']\n",
    ")\n",
    "\n",
    "# Callbacks\n",
    "callbacks = [\n",
    "    EarlyStopping(patience=3, restore_best_weights=True),\n",
    "    ReduceLROnPlateau(patience=2, factor=0.5, verbose=1),\n",
    "    ModelCheckpoint('model_phase1.h5', save_best_only=True)\n",
    "]\n",
    "\n",
    "# Train only top layers\n",
    "history_phase1 = eff_model_augmented.fit(\n",
    "    train_generator_eff,\n",
    "    validation_data=val_generator_eff,\n",
    "    epochs=10,\n",
    "    callbacks=callbacks\n",
    ")\n",
    "\n",
    "# Fine-tune base model\n",
    "-\n",
    "# Unfreeze the last 100 layers\n",
    "N = 100\n",
    "for layer in base_model.layers[-N:]:\n",
    "    layer.trainable = True\n",
    "\n",
    "# Recompile with lower learning rate\n",
    "eff_model_augmented.compile(\n",
    "    optimizer=Adam(learning_rate=1e-5),\n",
    "    loss='binary_crossentropy',\n",
    "    metrics=['accuracy']\n",
    ")\n",
    "\n",
    "# Callbacks (use a new checkpoint filename)\n",
    "callbacks_fine = [\n",
    "    EarlyStopping(patience=3, restore_best_weights=True),\n",
    "    ReduceLROnPlateau(patience=2, factor=0.5, verbose=1),\n",
    "    ModelCheckpoint('model_finetuned.h5', save_best_only=True)\n",
    "]\n",
    "\n",
    "# Fine-tune entire model\n",
    "history_phase2 = eff_model_augmented.fit(\n",
    "    train_generator_eff,\n",
    "    validation_data=val_generator_eff,\n",
    "    epochs=10,\n",
    "    class_weight=class_weights,\n",
    "    callbacks=callbacks_fine\n",
    ")"
   ]
  },
  {
   "cell_type": "code",
   "execution_count": 145,
   "id": "mfYyrG1Q7l5M",
   "metadata": {
    "colab": {
     "base_uri": "https://localhost:8080/"
    },
    "id": "mfYyrG1Q7l5M",
    "outputId": "a45451a6-1ea4-4d4b-f2fd-f930fa3ac49b"
   },
   "outputs": [
    {
     "name": "stdout",
     "output_type": "stream",
     "text": [
      "\u001b[1m31/31\u001b[0m \u001b[32m━━━━━━━━━━━━━━━━━━━━\u001b[0m\u001b[37m\u001b[0m \u001b[1m13s\u001b[0m 241ms/step\n",
      "\n",
      "=== Evaluation for EfficientNet ===\n",
      "Confusion Matrix:\n",
      "[[  0 256]\n",
      " [  0 734]]\n",
      "\n",
      "Classification Report:\n",
      "              precision    recall  f1-score   support\n",
      "\n",
      "           0     0.0000    0.0000    0.0000       256\n",
      "           1     0.7414    1.0000    0.8515       734\n",
      "\n",
      "    accuracy                         0.7414       990\n",
      "   macro avg     0.3707    0.5000    0.4258       990\n",
      "weighted avg     0.5497    0.7414    0.6313       990\n",
      "\n"
     ]
    },
    {
     "name": "stderr",
     "output_type": "stream",
     "text": [
      "/usr/local/lib/python3.11/dist-packages/sklearn/metrics/_classification.py:1565: UndefinedMetricWarning: Precision is ill-defined and being set to 0.0 in labels with no predicted samples. Use `zero_division` parameter to control this behavior.\n",
      "  _warn_prf(average, modifier, f\"{metric.capitalize()} is\", len(result))\n",
      "/usr/local/lib/python3.11/dist-packages/sklearn/metrics/_classification.py:1565: UndefinedMetricWarning: Precision is ill-defined and being set to 0.0 in labels with no predicted samples. Use `zero_division` parameter to control this behavior.\n",
      "  _warn_prf(average, modifier, f\"{metric.capitalize()} is\", len(result))\n",
      "/usr/local/lib/python3.11/dist-packages/sklearn/metrics/_classification.py:1565: UndefinedMetricWarning: Precision is ill-defined and being set to 0.0 in labels with no predicted samples. Use `zero_division` parameter to control this behavior.\n",
      "  _warn_prf(average, modifier, f\"{metric.capitalize()} is\", len(result))\n"
     ]
    }
   ],
   "source": [
    "# Confusion matrix and classification report for base model tuning. \n",
    "\n",
    "evaluate_model_on_generator(eff_model_augmented, test_generator_eff, model_name=\"EfficientNet\")"
   ]
  },
  {
   "cell_type": "code",
   "execution_count": 146,
   "id": "dJcZ5mgw8tCd",
   "metadata": {
    "colab": {
     "base_uri": "https://localhost:8080/",
     "height": 452
    },
    "id": "dJcZ5mgw8tCd",
    "outputId": "5ab03d7c-c2fe-4a6f-ec8f-cfdfc1222984"
   },
   "outputs": [
    {
     "data": {
      "image/png": "[encoded data removed]",
      "text/plain": [
       "<Figure size 640x480 with 1 Axes>"
      ]
     },
     "metadata": {},
     "output_type": "display_data"
    }
   ],
   "source": [
    "# Plot of training and validation accuracy\n",
    "\n",
    "plt.plot(history_phase2.history['accuracy'], label='train acc')\n",
    "plt.plot(history_phase2.history['val_accuracy'], label='val acc')\n",
    "plt.legend()\n",
    "plt.title(\"Training vs Validation Accuracy\")\n",
    "plt.show()"
   ]
  },
  {
   "cell_type": "markdown",
   "id": "bffc293b-552f-4bca-8cf2-93e9c2b67430",
   "metadata": {},
   "source": [
    "The model is still prediciting all images to be tumors. So, I started by confirming output shape and target label consistency"
   ]
  },
  {
   "cell_type": "code",
   "execution_count": 148,
   "id": "Dau-Q3-fQAio",
   "metadata": {
    "colab": {
     "base_uri": "https://localhost:8080/"
    },
    "id": "Dau-Q3-fQAio",
    "outputId": "74185395-f1ef-41f8-dd8b-a48053860fa4"
   },
   "outputs": [
    {
     "name": "stdout",
     "output_type": "stream",
     "text": [
      "Image batch shape: (32, 224, 224, 3)\n",
      "Label batch shape: (32,)\n",
      "Unique labels: [0. 1.]\n"
     ]
    }
   ],
   "source": [
    "# Checking output shape and target labels. \n",
    "\n",
    "x_batch, y_batch = next(train_generator_eff)\n",
    "print(\"Image batch shape:\", x_batch.shape)  # (32, 224, 224, 3)\n",
    "print(\"Label batch shape:\", y_batch.shape)  # (32,)\n",
    "print(\"Unique labels:\", np.unique(y_batch))  # should be [0. 1.]"
   ]
  },
  {
   "cell_type": "markdown",
   "id": "f542d3e2-c874-4371-a30b-5f28a2895a00",
   "metadata": {},
   "source": [
    "Next I wanted to check that labels and predictions are aligned"
   ]
  },
  {
   "cell_type": "code",
   "execution_count": 129,
   "id": "BWuBrTvsJJWo",
   "metadata": {
    "colab": {
     "base_uri": "https://localhost:8080/"
    },
    "id": "BWuBrTvsJJWo",
    "outputId": "25994657-d145-481f-df24-def4d66262a9"
   },
   "outputs": [
    {
     "name": "stdout",
     "output_type": "stream",
     "text": [
      "\u001b[1m31/31\u001b[0m \u001b[32m━━━━━━━━━━━━━━━━━━━━\u001b[0m\u001b[37m\u001b[0m \u001b[1m3s\u001b[0m 90ms/step\n",
      "Sample predictions (raw): [0.59777194 0.5974626  0.5966644  0.5973028  0.597405   0.5966482\n",
      " 0.59627444 0.59684926 0.5968112  0.5989893 ]\n"
     ]
    }
   ],
   "source": [
    "# 10 model predictions\n",
    "\n",
    "preds = eff_model_augmented.predict(test_generator_eff)\n",
    "print(\"Sample predictions (raw):\", preds[:10].flatten())"
   ]
  },
  {
   "cell_type": "code",
   "execution_count": 130,
   "id": "4FqGvtXoJOKw",
   "metadata": {
    "colab": {
     "base_uri": "https://localhost:8080/"
    },
    "id": "4FqGvtXoJOKw",
    "outputId": "0fd9b6ce-b7a9-4e84-cb64-05ab1d8f72ea"
   },
   "outputs": [
    {
     "name": "stdout",
     "output_type": "stream",
     "text": [
      "Sample predictions (binary): [1 1 1 1 1 1 1 1 1 1]\n"
     ]
    }
   ],
   "source": [
    "# Converting predictions to binary\n",
    "\n",
    "preds_binary = (preds > 0.5).astype(int)\n",
    "print(\"Sample predictions (binary):\", preds_binary[:10].flatten())"
   ]
  },
  {
   "cell_type": "markdown",
   "id": "17c1ec9a-3294-4912-9256-bb2c8edd84c8",
   "metadata": {},
   "source": [
    "To gather some more information I plotted the training and validation loss for both phases. "
   ]
  },
  {
   "cell_type": "code",
   "execution_count": 131,
   "id": "6iGiAQCtJPvY",
   "metadata": {
    "colab": {
     "base_uri": "https://localhost:8080/",
     "height": 452
    },
    "id": "6iGiAQCtJPvY",
    "outputId": "5845fa44-08ae-4805-b918-8ec58c8b67c6"
   },
   "outputs": [
    {
     "data": {
      "image/png": "[encoded data removed]",
      "text/plain": [
       "<Figure size 640x480 with 1 Axes>"
      ]
     },
     "metadata": {},
     "output_type": "display_data"
    }
   ],
   "source": [
    "#  Plot of training and validation loss for phase 1\n",
    "\n",
    "plt.plot(history_phase1.history['loss'], label='Train Loss')\n",
    "plt.plot(history_phase1.history['val_loss'], label='Val Loss')\n",
    "plt.legend()\n",
    "plt.title(\"Training and Validation Loss (Phase 1)\")\n",
    "plt.show()"
   ]
  },
  {
   "cell_type": "code",
   "execution_count": 132,
   "id": "zFg5yoS4JW0d",
   "metadata": {
    "colab": {
     "base_uri": "https://localhost:8080/",
     "height": 452
    },
    "id": "zFg5yoS4JW0d",
    "outputId": "f8e1a6cd-f5d9-4994-b976-f34b805c1930"
   },
   "outputs": [
    {
     "data": {
      "image/png": "[encoded data removed]",
      "text/plain": [
       "<Figure size 640x480 with 1 Axes>"
      ]
     },
     "metadata": {},
     "output_type": "display_data"
    }
   ],
   "source": [
    "#  Plot of training and validation loss for phase 2\n",
    "\n",
    "plt.plot(history_phase2.history['loss'], label='Train Loss')\n",
    "plt.plot(history_phase2.history['val_loss'], label='Val Loss')\n",
    "plt.legend()\n",
    "plt.title(\"Training and Validation Loss (Phase 1)\")\n",
    "plt.show()"
   ]
  },
  {
   "cell_type": "markdown",
   "id": "3a004b3b-a1c2-455d-a730-57c8083026e5",
   "metadata": {},
   "source": [
    "Next, I verified that the data was split correctly and all datasets had both tumor and non-tumor images."
   ]
  },
  {
   "cell_type": "code",
   "execution_count": 134,
   "id": "rYqdD77aNdaW",
   "metadata": {
    "colab": {
     "base_uri": "https://localhost:8080/"
    },
    "id": "rYqdD77aNdaW",
    "outputId": "10e8ad79-5edc-452e-cb08-05ef4934eb09"
   },
   "outputs": [
    {
     "name": "stdout",
     "output_type": "stream",
     "text": [
      "Counter({'1': 3423, '0': 1194})\n",
      "Counter({'1': 734, '0': 256})\n",
      "Counter({'1': 734, '0': 256})\n"
     ]
    }
   ],
   "source": [
    "from collections import Counter\n",
    "\n",
    "# print binary label counts of all datasets\n",
    "\n",
    "print(Counter(train_df_hashes['binary_label']))\n",
    "print(Counter(val_df_hashes['binary_label']))\n",
    "print(Counter(test_df_hashes['binary_label']))"
   ]
  },
  {
   "cell_type": "code",
   "execution_count": 135,
   "id": "-iZPMERpNl5V",
   "metadata": {
    "colab": {
     "base_uri": "https://localhost:8080/"
    },
    "id": "-iZPMERpNl5V",
    "outputId": "fa1c7e71-65eb-4d34-c53a-ce21c698929d"
   },
   "outputs": [
    {
     "name": "stdout",
     "output_type": "stream",
     "text": [
      "Trainable layers in base model: 100\n"
     ]
    }
   ],
   "source": [
    "# Verify only the top 100 layers were unfrozen.\n",
    "\n",
    "trainable_layers = [l.name for l in base_model.layers if l.trainable]\n",
    "print(f\"Trainable layers in base model: {len(trainable_layers)}\")"
   ]
  },
  {
   "cell_type": "markdown",
   "id": "4fb19792-b5a8-4d71-9779-f907c2b2b7cc",
   "metadata": {},
   "source": [
    "there does not appear to be a standout root cause for our model predicting all tumors.  \n",
    "\n",
    "Next, I compared this same data with the MobileNet model.  \n",
    "\n",
    "I started by confirming generator outputs are correct"
   ]
  },
  {
   "cell_type": "code",
   "execution_count": 136,
   "id": "5ZRPAgm3OTOR",
   "metadata": {
    "colab": {
     "base_uri": "https://localhost:8080/"
    },
    "id": "5ZRPAgm3OTOR",
    "outputId": "f2c17962-82a0-448f-c3a3-a729ee4e1556"
   },
   "outputs": [
    {
     "name": "stdout",
     "output_type": "stream",
     "text": [
      "Images shape: (32, 224, 224, 3)\n",
      "Labels shape: (32,)\n",
      "Unique labels in batch: [0. 1.]\n"
     ]
    }
   ],
   "source": [
    "# Checking output shape and target labels. \n",
    "\n",
    "batch_x, batch_y = next(train_generator_mob)  \n",
    "print(\"Images shape:\", batch_x.shape)\n",
    "print(\"Labels shape:\", batch_y.shape)\n",
    "print(\"Unique labels in batch:\", np.unique(batch_y))"
   ]
  },
  {
   "cell_type": "code",
   "execution_count": 137,
   "id": "8oQvwKUpOT2_",
   "metadata": {
    "colab": {
     "base_uri": "https://localhost:8080/"
    },
    "id": "8oQvwKUpOT2_",
    "outputId": "a0f31514-de31-4fd6-c24e-66a83f2b57af"
   },
   "outputs": [
    {
     "name": "stdout",
     "output_type": "stream",
     "text": [
      "\u001b[1m31/31\u001b[0m \u001b[32m━━━━━━━━━━━━━━━━━━━━\u001b[0m\u001b[37m\u001b[0m \u001b[1m3s\u001b[0m 93ms/step\n",
      "Sample predictions (raw): [9.8805702e-01 7.2715119e-03 9.9998486e-01 1.3083010e-03 9.9947351e-01\n",
      " 9.9358749e-01 9.9982953e-01 4.7094113e-04 7.4123544e-01 3.9643236e-03]\n"
     ]
    }
   ],
   "source": [
    "# 10 model predictions\n",
    "\n",
    "preds = mob_model_augmented.predict(test_generator_mob)\n",
    "print(\"Sample predictions (raw):\", preds[:10].flatten())"
   ]
  },
  {
   "cell_type": "code",
   "execution_count": 138,
   "id": "6EH2SalJOZhK",
   "metadata": {
    "colab": {
     "base_uri": "https://localhost:8080/"
    },
    "id": "6EH2SalJOZhK",
    "outputId": "3cc72252-945c-487c-fe4f-67f2ecd0b681"
   },
   "outputs": [
    {
     "name": "stdout",
     "output_type": "stream",
     "text": [
      "Sample predictions (binary): [1 0 1 0 1 1 1 0 1 0]\n"
     ]
    }
   ],
   "source": [
    "# Converting predictions to binary\n",
    "\n",
    "preds_binary = (preds > 0.5).astype(int)\n",
    "print(\"Sample predictions (binary):\", preds_binary[:10].flatten())"
   ]
  },
  {
   "cell_type": "code",
   "execution_count": 139,
   "id": "xe-xQw_JOob_",
   "metadata": {
    "colab": {
     "base_uri": "https://localhost:8080/"
    },
    "id": "xe-xQw_JOob_",
    "outputId": "ece6142e-e124-4ad6-bf1e-980d365ce3ed"
   },
   "outputs": [
    {
     "name": "stdout",
     "output_type": "stream",
     "text": [
      "\u001b[1m31/31\u001b[0m \u001b[32m━━━━━━━━━━━━━━━━━━━━\u001b[0m\u001b[37m\u001b[0m \u001b[1m3s\u001b[0m 88ms/step\n",
      "Confusion Matrix:\n",
      "[[211  45]\n",
      " [  3 731]]\n",
      "\n",
      "Classification Report:\n",
      "              precision    recall  f1-score   support\n",
      "\n",
      "           0       0.99      0.82      0.90       256\n",
      "           1       0.94      1.00      0.97       734\n",
      "\n",
      "    accuracy                           0.95       990\n",
      "   macro avg       0.96      0.91      0.93       990\n",
      "weighted avg       0.95      0.95      0.95       990\n",
      "\n"
     ]
    }
   ],
   "source": [
    "# Create confusion matrix and classification report of MobilNet model for comparison. \n",
    "\n",
    "# Get true labels\n",
    "y_true = test_generator_mob.classes  \n",
    "\n",
    "# Get binary predictions\n",
    "y_pred = (mob_model_augmented.predict(test_generator_mob) > 0.5).astype(int).flatten()\n",
    "\n",
    "print(\"Confusion Matrix:\")\n",
    "print(confusion_matrix(y_true, y_pred))\n",
    "\n",
    "print(\"\\nClassification Report:\")\n",
    "print(classification_report(y_true, y_pred))"
   ]
  },
  {
   "cell_type": "markdown",
   "id": "930b0db5-7319-49d4-a71d-60a814a0c542",
   "metadata": {},
   "source": [
    "Key Issues Observed:  \n",
    "\n",
    "* Severe class imbalance in predictions (recall of 1.0 for one class, 0.0 for the other).\n",
    "\n",
    "* Confusion matrix often looked like:\n",
    "[0 256]\n",
    "[0 734]\n",
    "\n",
    "* Preprocessing was confirmed correct (preprocessing_function=effnet_preprocess), so input scaling wasn't the root cause.\n",
    "\n",
    "I also attempted:\n",
    "\n",
    "* Freezing and unfreezing layers\n",
    "\n",
    "* Adjusting the number of trainable layers\n",
    "\n",
    "* Modifying learning rates and optimizer settings\n",
    "\n",
    "* Rebuilding the model from scratch using Functional API\n",
    "\n",
    "* Balancing classes using class_weight\n",
    "\n",
    "\n",
    "Final Conclusion:  \n",
    "\n",
    "Despite proper architecture and input preprocessing, EfficientNetB0 consistently overfit or failed to converge meaningfully on this specific dataset.  \n",
    "\n",
    "The problem may stem from:\n",
    "\n",
    "Over-complexity or mismatch between EfficientNet's inductive bias and the dataset's size/content.\n",
    "\n",
    "The model potentially memorizing features without learning useful decision boundaries for both classes.  \n",
    "\n",
    "One troubleshooting step that I did not perform, but would like to in the future, is visualizing with Grad_CAM. This would help me understand what the model is looking at when making predictions. "
   ]
  },
  {
   "cell_type": "markdown",
   "id": "f02fd814-0840-40d1-acdd-0b382c7ac7f5",
   "metadata": {},
   "source": [
    "### Save Final Model"
   ]
  },
  {
   "cell_type": "markdown",
   "id": "e9ca829c-4885-41f8-bd8e-fbda12b33762",
   "metadata": {},
   "source": [
    "Due to time constraints, I was unable to investigate EfficientNet model further.  \n",
    "\n",
    "I mad the decision to go with MobileNetV2 model. It has a lighter architecture better suited for this binary classification task. Also after proper data augmentation and fine-tuning, MobileNetV2 produced balanced, high-quality predictions with 95%+ accuracy, strong F1-scores, and stable convergence."
   ]
  },
  {
   "cell_type": "code",
   "execution_count": null,
   "id": "z_XpjGxCOs2s",
   "metadata": {
    "id": "z_XpjGxCOs2s"
   },
   "outputs": [],
   "source": [
    "# Save final model\n",
    "\n",
    "mob_model_augmented.save(\"mobilenet_mri_classifier.keras\")"
   ]
  }
 ],
 "metadata": {
  "accelerator": "GPU",
  "colab": {
   "gpuType": "T4",
   "machine_shape": "hm",
   "provenance": []
  },
  "kernelspec": {
   "display_name": "Python 3 (ipykernel)",
   "language": "python",
   "name": "python3"
  },
  "language_info": {
   "codemirror_mode": {
    "name": "ipython",
    "version": 3
   },
   "file_extension": ".py",
   "mimetype": "text/x-python",
   "name": "python",
   "nbconvert_exporter": "python",
   "pygments_lexer": "ipython3",
   "version": "3.10.11"
  }
 },
 "nbformat": 4,
 "nbformat_minor": 5
}
