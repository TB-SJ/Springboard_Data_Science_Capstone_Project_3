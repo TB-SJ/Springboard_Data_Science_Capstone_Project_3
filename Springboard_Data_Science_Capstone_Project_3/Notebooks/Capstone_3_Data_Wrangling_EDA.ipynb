{
 "cells": [
  {
   "cell_type": "markdown",
   "id": "95b7fb3c-b25c-433b-b827-eaf66f21b200",
   "metadata": {},
   "source": [
    "# Capstone 3 - Tumor Dectection from MRI image"
   ]
  },
  {
   "cell_type": "markdown",
   "id": "843df906-bbf9-4879-be6b-43de169f265b",
   "metadata": {},
   "source": [
    "This project involves training a deep learning model to automatically detect brain tumors in MRI scans. The project will focus on developing a model that can classify MRI images as either tumor (malignant/benign) or non-tumor, providing a valuable tool for radiologists and healthcare professionals."
   ]
  },
  {
   "cell_type": "markdown",
   "id": "c83b59ba-1a9a-42bf-a456-75d9a1a3e04d",
   "metadata": {},
   "source": [
    "# Data Wrangling and EDA"
   ]
  },
  {
   "cell_type": "code",
   "execution_count": 1,
   "id": "969b117e-3143-47f3-90d5-cdc691cf61bf",
   "metadata": {},
   "outputs": [],
   "source": [
    "#Import libraries \n",
    "import os\n",
    "import numpy as np\n",
    "import pandas as pd\n",
    "import matplotlib.pyplot as plt\n",
    "import seaborn as sns\n",
    "from PIL import Image\n",
    "from collections import Counter\n",
    "from tqdm import tqdm\n",
    "import shutil\n",
    "from sklearn.utils.class_weight import compute_class_weight"
   ]
  },
  {
   "cell_type": "markdown",
   "id": "a5f0e43e-b37d-44dd-accb-0f828308ebab",
   "metadata": {},
   "source": [
    "## Load Data"
   ]
  },
  {
   "cell_type": "markdown",
   "id": "d91a0975-9dbd-4f8b-b5c1-32a2a44dc4a1",
   "metadata": {},
   "source": [
    "Since I don't want to put too much strain on computer's resorces, I started by creating a data frame with the file path of the MRI image and the label of the image. Images were labeled as no tumor, giloma, meningioma, and pituitary.  \n",
    "\n",
    "Since my goal is a binary classification problem, tumor or no tumor, I will aslo convert these categorical labels to binary lables. I will keep the original lables for now as I might want to expand the model to multiclass classification in the future. "
   ]
  },
  {
   "cell_type": "code",
   "execution_count": 2,
   "id": "4df0d7bc-6abe-4fac-82be-1a9c0f4625f6",
   "metadata": {},
   "outputs": [],
   "source": [
    "# Path to the dataset folder\n",
    "data_dir = r\"C:\\Users\\Travi\\OneDrive\\Documents\\GitHub\\Springboard_Data_Science_Capstone_Project_3\\Image_Data\"\n",
    "\n",
    "# Get all categories\n",
    "categories = os.listdir(data_dir)\n",
    "\n",
    "# Create DataFrame with image paths and their labels\n",
    "data = []\n",
    "\n",
    "for category in categories:\n",
    "    category_path = os.path.join(data_dir, category)\n",
    "    for img_file in os.listdir(category_path):\n",
    "        img_path = os.path.join(category_path, img_file)\n",
    "        data.append([img_path, category])\n",
    "df = pd.DataFrame(data, columns=['file_path', 'label'])\n",
    "\n",
    "# Shuffle the data\n",
    "df = df.sample(frac=1).reset_index(drop=True)  "
   ]
  },
  {
   "cell_type": "code",
   "execution_count": 3,
   "id": "8c0f0cc1-5f59-4e42-a3ff-8a130d4b16df",
   "metadata": {},
   "outputs": [
    {
     "data": {
      "text/html": [
       "<div>\n",
       "<style scoped>\n",
       "    .dataframe tbody tr th:only-of-type {\n",
       "        vertical-align: middle;\n",
       "    }\n",
       "\n",
       "    .dataframe tbody tr th {\n",
       "        vertical-align: top;\n",
       "    }\n",
       "\n",
       "    .dataframe thead th {\n",
       "        text-align: right;\n",
       "    }\n",
       "</style>\n",
       "<table border=\"1\" class=\"dataframe\">\n",
       "  <thead>\n",
       "    <tr style=\"text-align: right;\">\n",
       "      <th></th>\n",
       "      <th>file_path</th>\n",
       "      <th>label</th>\n",
       "    </tr>\n",
       "  </thead>\n",
       "  <tbody>\n",
       "    <tr>\n",
       "      <th>0</th>\n",
       "      <td>C:\\Users\\Travi\\OneDrive\\Documents\\GitHub\\Sprin...</td>\n",
       "      <td>glioma</td>\n",
       "    </tr>\n",
       "    <tr>\n",
       "      <th>1</th>\n",
       "      <td>C:\\Users\\Travi\\OneDrive\\Documents\\GitHub\\Sprin...</td>\n",
       "      <td>glioma</td>\n",
       "    </tr>\n",
       "    <tr>\n",
       "      <th>2</th>\n",
       "      <td>C:\\Users\\Travi\\OneDrive\\Documents\\GitHub\\Sprin...</td>\n",
       "      <td>glioma</td>\n",
       "    </tr>\n",
       "    <tr>\n",
       "      <th>3</th>\n",
       "      <td>C:\\Users\\Travi\\OneDrive\\Documents\\GitHub\\Sprin...</td>\n",
       "      <td>glioma</td>\n",
       "    </tr>\n",
       "    <tr>\n",
       "      <th>4</th>\n",
       "      <td>C:\\Users\\Travi\\OneDrive\\Documents\\GitHub\\Sprin...</td>\n",
       "      <td>meningioma</td>\n",
       "    </tr>\n",
       "  </tbody>\n",
       "</table>\n",
       "</div>"
      ],
      "text/plain": [
       "                                           file_path       label\n",
       "0  C:\\Users\\Travi\\OneDrive\\Documents\\GitHub\\Sprin...      glioma\n",
       "1  C:\\Users\\Travi\\OneDrive\\Documents\\GitHub\\Sprin...      glioma\n",
       "2  C:\\Users\\Travi\\OneDrive\\Documents\\GitHub\\Sprin...      glioma\n",
       "3  C:\\Users\\Travi\\OneDrive\\Documents\\GitHub\\Sprin...      glioma\n",
       "4  C:\\Users\\Travi\\OneDrive\\Documents\\GitHub\\Sprin...  meningioma"
      ]
     },
     "execution_count": 3,
     "metadata": {},
     "output_type": "execute_result"
    }
   ],
   "source": [
    "df.head()"
   ]
  },
  {
   "cell_type": "markdown",
   "id": "20f7779e-f7c5-4059-ae4f-8233dd88d183",
   "metadata": {},
   "source": [
    "## Encode Labels "
   ]
  },
  {
   "cell_type": "markdown",
   "id": "03f939ab-55f8-4b4c-953d-3e3a10899476",
   "metadata": {},
   "source": [
    "I will now encode the categorical labels to binary lables to be used for my binary classificaiton model. "
   ]
  },
  {
   "cell_type": "code",
   "execution_count": 4,
   "id": "1b2290f3-84bd-4ab2-8f06-2042fa946394",
   "metadata": {},
   "outputs": [],
   "source": [
    "#Create binary labels\n",
    "def convert_to_binary(label):\n",
    "    return 0 if label == 'notumor' else 1\n",
    "\n",
    "df['binary_label'] = df['label'].apply(convert_to_binary)"
   ]
  },
  {
   "cell_type": "code",
   "execution_count": 5,
   "id": "9e94f6b8-8016-4ee3-88bc-df7b61de687b",
   "metadata": {},
   "outputs": [
    {
     "data": {
      "text/html": [
       "<div>\n",
       "<style scoped>\n",
       "    .dataframe tbody tr th:only-of-type {\n",
       "        vertical-align: middle;\n",
       "    }\n",
       "\n",
       "    .dataframe tbody tr th {\n",
       "        vertical-align: top;\n",
       "    }\n",
       "\n",
       "    .dataframe thead th {\n",
       "        text-align: right;\n",
       "    }\n",
       "</style>\n",
       "<table border=\"1\" class=\"dataframe\">\n",
       "  <thead>\n",
       "    <tr style=\"text-align: right;\">\n",
       "      <th></th>\n",
       "      <th>file_path</th>\n",
       "      <th>label</th>\n",
       "      <th>binary_label</th>\n",
       "    </tr>\n",
       "  </thead>\n",
       "  <tbody>\n",
       "    <tr>\n",
       "      <th>0</th>\n",
       "      <td>C:\\Users\\Travi\\OneDrive\\Documents\\GitHub\\Sprin...</td>\n",
       "      <td>glioma</td>\n",
       "      <td>1</td>\n",
       "    </tr>\n",
       "    <tr>\n",
       "      <th>1</th>\n",
       "      <td>C:\\Users\\Travi\\OneDrive\\Documents\\GitHub\\Sprin...</td>\n",
       "      <td>glioma</td>\n",
       "      <td>1</td>\n",
       "    </tr>\n",
       "    <tr>\n",
       "      <th>2</th>\n",
       "      <td>C:\\Users\\Travi\\OneDrive\\Documents\\GitHub\\Sprin...</td>\n",
       "      <td>glioma</td>\n",
       "      <td>1</td>\n",
       "    </tr>\n",
       "    <tr>\n",
       "      <th>3</th>\n",
       "      <td>C:\\Users\\Travi\\OneDrive\\Documents\\GitHub\\Sprin...</td>\n",
       "      <td>glioma</td>\n",
       "      <td>1</td>\n",
       "    </tr>\n",
       "    <tr>\n",
       "      <th>4</th>\n",
       "      <td>C:\\Users\\Travi\\OneDrive\\Documents\\GitHub\\Sprin...</td>\n",
       "      <td>meningioma</td>\n",
       "      <td>1</td>\n",
       "    </tr>\n",
       "  </tbody>\n",
       "</table>\n",
       "</div>"
      ],
      "text/plain": [
       "                                           file_path       label  binary_label\n",
       "0  C:\\Users\\Travi\\OneDrive\\Documents\\GitHub\\Sprin...      glioma             1\n",
       "1  C:\\Users\\Travi\\OneDrive\\Documents\\GitHub\\Sprin...      glioma             1\n",
       "2  C:\\Users\\Travi\\OneDrive\\Documents\\GitHub\\Sprin...      glioma             1\n",
       "3  C:\\Users\\Travi\\OneDrive\\Documents\\GitHub\\Sprin...      glioma             1\n",
       "4  C:\\Users\\Travi\\OneDrive\\Documents\\GitHub\\Sprin...  meningioma             1"
      ]
     },
     "execution_count": 5,
     "metadata": {},
     "output_type": "execute_result"
    }
   ],
   "source": [
    "df.head()"
   ]
  },
  {
   "cell_type": "markdown",
   "id": "4316a0e5-f988-4cf6-aca0-2cb9ca260020",
   "metadata": {},
   "source": [
    "## Adding Image MetaData "
   ]
  },
  {
   "cell_type": "markdown",
   "id": "09fd84ce-8975-4ce3-b64a-f93628847f8e",
   "metadata": {},
   "source": [
    "I will now add the image metadata, specifically image size and mode to the dataframe. "
   ]
  },
  {
   "cell_type": "code",
   "execution_count": 6,
   "id": "f881fe7f-7648-45db-a728-4d64c6bafe28",
   "metadata": {},
   "outputs": [],
   "source": [
    "# Add image sizes and modes to the data frame\n",
    "def get_image_data(path):\n",
    "    try:\n",
    "        with Image.open(path) as img:\n",
    "            return img.size, img.mode  # (width, height), mode\n",
    "    except Exception as e:\n",
    "        return None, None  # In case of corrupted image\n",
    "\n",
    "# Apply to DataFrame\n",
    "df[['image_size', 'image_mode']] = df['file_path'].apply(\n",
    "    lambda path: pd.Series(get_image_data(path))\n",
    ")"
   ]
  },
  {
   "cell_type": "code",
   "execution_count": 7,
   "id": "7729cc61-db02-4a39-b0ee-ec4fb32c0ae3",
   "metadata": {},
   "outputs": [
    {
     "data": {
      "text/html": [
       "<div>\n",
       "<style scoped>\n",
       "    .dataframe tbody tr th:only-of-type {\n",
       "        vertical-align: middle;\n",
       "    }\n",
       "\n",
       "    .dataframe tbody tr th {\n",
       "        vertical-align: top;\n",
       "    }\n",
       "\n",
       "    .dataframe thead th {\n",
       "        text-align: right;\n",
       "    }\n",
       "</style>\n",
       "<table border=\"1\" class=\"dataframe\">\n",
       "  <thead>\n",
       "    <tr style=\"text-align: right;\">\n",
       "      <th></th>\n",
       "      <th>file_path</th>\n",
       "      <th>label</th>\n",
       "      <th>binary_label</th>\n",
       "      <th>image_size</th>\n",
       "      <th>image_mode</th>\n",
       "    </tr>\n",
       "  </thead>\n",
       "  <tbody>\n",
       "    <tr>\n",
       "      <th>0</th>\n",
       "      <td>C:\\Users\\Travi\\OneDrive\\Documents\\GitHub\\Sprin...</td>\n",
       "      <td>glioma</td>\n",
       "      <td>1</td>\n",
       "      <td>(512, 512)</td>\n",
       "      <td>RGB</td>\n",
       "    </tr>\n",
       "    <tr>\n",
       "      <th>1</th>\n",
       "      <td>C:\\Users\\Travi\\OneDrive\\Documents\\GitHub\\Sprin...</td>\n",
       "      <td>glioma</td>\n",
       "      <td>1</td>\n",
       "      <td>(512, 512)</td>\n",
       "      <td>L</td>\n",
       "    </tr>\n",
       "    <tr>\n",
       "      <th>2</th>\n",
       "      <td>C:\\Users\\Travi\\OneDrive\\Documents\\GitHub\\Sprin...</td>\n",
       "      <td>glioma</td>\n",
       "      <td>1</td>\n",
       "      <td>(512, 512)</td>\n",
       "      <td>L</td>\n",
       "    </tr>\n",
       "    <tr>\n",
       "      <th>3</th>\n",
       "      <td>C:\\Users\\Travi\\OneDrive\\Documents\\GitHub\\Sprin...</td>\n",
       "      <td>glioma</td>\n",
       "      <td>1</td>\n",
       "      <td>(512, 512)</td>\n",
       "      <td>L</td>\n",
       "    </tr>\n",
       "    <tr>\n",
       "      <th>4</th>\n",
       "      <td>C:\\Users\\Travi\\OneDrive\\Documents\\GitHub\\Sprin...</td>\n",
       "      <td>meningioma</td>\n",
       "      <td>1</td>\n",
       "      <td>(314, 358)</td>\n",
       "      <td>RGB</td>\n",
       "    </tr>\n",
       "  </tbody>\n",
       "</table>\n",
       "</div>"
      ],
      "text/plain": [
       "                                           file_path       label  \\\n",
       "0  C:\\Users\\Travi\\OneDrive\\Documents\\GitHub\\Sprin...      glioma   \n",
       "1  C:\\Users\\Travi\\OneDrive\\Documents\\GitHub\\Sprin...      glioma   \n",
       "2  C:\\Users\\Travi\\OneDrive\\Documents\\GitHub\\Sprin...      glioma   \n",
       "3  C:\\Users\\Travi\\OneDrive\\Documents\\GitHub\\Sprin...      glioma   \n",
       "4  C:\\Users\\Travi\\OneDrive\\Documents\\GitHub\\Sprin...  meningioma   \n",
       "\n",
       "   binary_label  image_size image_mode  \n",
       "0             1  (512, 512)        RGB  \n",
       "1             1  (512, 512)          L  \n",
       "2             1  (512, 512)          L  \n",
       "3             1  (512, 512)          L  \n",
       "4             1  (314, 358)        RGB  "
      ]
     },
     "execution_count": 7,
     "metadata": {},
     "output_type": "execute_result"
    }
   ],
   "source": [
    "df.head()"
   ]
  },
  {
   "cell_type": "code",
   "execution_count": 8,
   "id": "01bd4fc9-4297-42c0-82a4-4e9eb5cc0b24",
   "metadata": {},
   "outputs": [
    {
     "name": "stdout",
     "output_type": "stream",
     "text": [
      "[(512, 512) (314, 358) (201, 251) (218, 234) (206, 245) (225, 225)\n",
      " (400, 400) (300, 168) (642, 361) (600, 450) (215, 234) (630, 630)\n",
      " (785, 848) (442, 442) (218, 231) (173, 201) (206, 244) (227, 222)\n",
      " (428, 417) (200, 252) (315, 315) (236, 290) (236, 263) (230, 282)\n",
      " (201, 250) (236, 236) (339, 340) (211, 236) (359, 449) (318, 354)\n",
      " (722, 690) (305, 337) (207, 243) (254, 198) (680, 680) (214, 236)\n",
      " (236, 300) (513, 522) (232, 217) (192, 192) (210, 234) (236, 223)\n",
      " (217, 248) (341, 377) (416, 395) (276, 326) (356, 474) (236, 269)\n",
      " (420, 264) (200, 223) (228, 221) (852, 480) (470, 432) (332, 442)\n",
      " (212, 280) (227, 213) (222, 252) (236, 232) (236, 213) (208, 242)\n",
      " (236, 315) (540, 568) (196, 257) (717, 717) (235, 233) (208, 248)\n",
      " (728, 725) (235, 214) (298, 354) (441, 442) (452, 509) (455, 500)\n",
      " (313, 393) (497, 398) (234, 224) (411, 396) (400, 442) (755, 824)\n",
      " (236, 295) (236, 357) (252, 303) (275, 183) (468, 444) (367, 395)\n",
      " (229, 214) (227, 262) (233, 226) (235, 216) (324, 284) (177, 197)\n",
      " (234, 218) (630, 423) (212, 238) (442, 454) (235, 264) (150, 198)\n",
      " (350, 393) (300, 258) (210, 240) (295, 394) (236, 251) (341, 395)\n",
      " (1024, 1024) (236, 243) (453, 496) (256, 256) (1000, 714) (491, 624)\n",
      " (224, 286) (411, 501) (393, 400) (236, 257) (226, 214) (504, 540)\n",
      " (224, 219) (216, 234) (209, 241) (351, 398) (507, 340) (554, 554)\n",
      " (724, 851) (409, 442) (220, 275) (225, 259) (236, 366) (1280, 1280)\n",
      " (232, 261) (250, 270) (364, 418) (194, 259) (420, 280) (236, 260)\n",
      " (417, 424) (220, 212) (380, 530) (550, 664) (267, 328) (352, 322)\n",
      " (259, 194) (338, 345) (300, 412) (224, 216) (234, 225) (336, 380)\n",
      " (290, 342) (208, 243) (236, 252) (200, 248) (235, 227) (236, 250)\n",
      " (300, 345) (227, 300) (174, 230) (236, 294) (825, 993) (355, 452)\n",
      " (272, 331) (407, 485) (219, 211) (387, 469) (202, 250) (470, 508)\n",
      " (450, 446) (600, 600) (652, 600) (257, 307) (262, 308) (750, 750)\n",
      " (236, 218) (1000, 583) (207, 225) (645, 439) (330, 355) (264, 336)\n",
      " (438, 502) (1920, 1080) (205, 251) (230, 235) (850, 872) (201, 244)\n",
      " (414, 496) (210, 213) (216, 216) (257, 248) (236, 262) (236, 221)\n",
      " (200, 236) (221, 228) (233, 243) (262, 244) (200, 235) (235, 229)\n",
      " (472, 546) (291, 340) (1275, 1427) (369, 398) (530, 526) (416, 489)\n",
      " (626, 575) (480, 480) (507, 362) (228, 228) (221, 257) (341, 372)\n",
      " (212, 237) (472, 537) (215, 220) (320, 344) (655, 602) (278, 306)\n",
      " (507, 605) (216, 293) (441, 427) (447, 251) (304, 410) (900, 741)\n",
      " (203, 248) (211, 239) (500, 500) (853, 480) (236, 231) (209, 242)\n",
      " (254, 325) (233, 228) (286, 356) (180, 218) (204, 247) (600, 605)\n",
      " (366, 395) (290, 339) (235, 277) (212, 222) (235, 261) (825, 832)\n",
      " (275, 301) (300, 359) (485, 510) (605, 613) (235, 257) (374, 370)\n",
      " (202, 223) (800, 693) (343, 367) (405, 484) (450, 504) (236, 203)\n",
      " (210, 201) (201, 207) (528, 581) (200, 243) (233, 208) (1149, 1019)\n",
      " (456, 501) (339, 415) (440, 278) (534, 674) (369, 395) (733, 781)\n",
      " (216, 302) (236, 273) (504, 488) (236, 268) (314, 195) (306, 306)\n",
      " (201, 210) (278, 280) (410, 490) (1375, 1446) (314, 258) (244, 274)\n",
      " (212, 236) (205, 214) (648, 674) (273, 326) (251, 273) (474, 474)\n",
      " (208, 225) (255, 236) (236, 201) (314, 260) (350, 350) (206, 249)\n",
      " (502, 502) (214, 216) (236, 220) (330, 220) (233, 222) (201, 249)\n",
      " (213, 236) (236, 239) (323, 342) (204, 249) (214, 235) (203, 243)\n",
      " (600, 519) (217, 232) (235, 228) (216, 202) (416, 512) (630, 614)\n",
      " (421, 486) (528, 528) (278, 253) (926, 649) (374, 456) (1280, 720)\n",
      " (446, 512) (329, 310) (238, 212) (202, 202) (354, 443) (629, 585)\n",
      " (312, 401) (233, 218) (239, 224) (237, 248) (626, 686) (233, 210)\n",
      " (430, 483) (321, 351) (439, 512) (230, 241) (235, 244) (208, 278)\n",
      " (239, 248) (402, 396) (289, 354) (230, 274) (236, 280) (207, 207)\n",
      " (236, 216) (224, 262) (209, 234) (213, 237) (234, 234) (229, 223)\n",
      " (411, 496) (494, 600) (296, 320) (236, 228) (685, 681) (331, 406)\n",
      " (226, 212) (200, 210) (236, 309) (205, 249) (622, 777) (890, 1075)\n",
      " (315, 341) (229, 280) (721, 903) (590, 332) (253, 239) (224, 223)\n",
      " (360, 378) (444, 506) (552, 527) (208, 217) (236, 270) (1024, 830)\n",
      " (591, 650) (1365, 1365) (940, 900) (562, 592) (226, 223) (236, 222)\n",
      " (503, 369) (225, 218) (235, 304) (200, 200) (306, 365) (236, 240)\n",
      " (236, 226) (497, 320) (234, 216) (232, 216) (502, 513) (209, 225)\n",
      " (226, 213) (235, 215) (257, 320) (434, 512) (329, 314) (850, 745)\n",
      " (469, 470) (219, 234) (210, 264)]\n",
      "['RGB' 'L' 'P' 'RGBA']\n"
     ]
    }
   ],
   "source": [
    "# Inspect the image sizes and modes\n",
    "print(df.image_size.unique())\n",
    "print(df.image_mode.unique())"
   ]
  },
  {
   "cell_type": "markdown",
   "id": "9619a828-5fd3-4d69-81c5-501f7ebb86f1",
   "metadata": {},
   "source": [
    "## Standardize Image Size and Mode"
   ]
  },
  {
   "cell_type": "markdown",
   "id": "32bd0211-279d-4410-a847-81fbf2bac19a",
   "metadata": {},
   "source": [
    "It looks like the images in the data set differ in image size and image mode. I will need to convert and standardize both the image size and mode.  \n",
    "\n",
    "There are 2 main types of models that I want to explore for this project.  \n",
    "\n",
    "First I will explore transfer learning with both MobileNetV2 and EfficientNetB0 models. This will allow me to leverage powerful models already trained on large image datasets. I will just need to \"fine-tune\" them on my MRI dataset and should give me great performance even with small datasets. This is a good starting point since I am fairly new to image data.  \n",
    "\n",
    "The other model I will explore is a custom Convolutional Neural Network (CNN) model. This will allow me to build and experiment with my own architecture to help me gain a better understanding on how CNN layers (Conv, Pool, Dropout, etc.) work."
   ]
  },
  {
   "cell_type": "markdown",
   "id": "76a88b3d-8384-4c21-b1e5-88ae84e64d52",
   "metadata": {},
   "source": [
    "I will now standardize all the image sizes and modes to prepare them for training. I will start by creating a copy of all images to preserve my original dataset. "
   ]
  },
  {
   "cell_type": "code",
   "execution_count": 9,
   "id": "ceb04089-a5b4-4403-967a-7013e8863294",
   "metadata": {},
   "outputs": [],
   "source": [
    "#Create new directory to copy all images\n",
    "output_dir = r\"C:\\Users\\Travi\\OneDrive\\Documents\\GitHub\\Springboard_Data_Science_Capstone_Project_3\\Image_Data\\copy_of_original_images\"\n",
    "os.makedirs(output_dir, exist_ok=True)"
   ]
  },
  {
   "cell_type": "code",
   "execution_count": 10,
   "id": "81690c8c-0599-4735-9014-e0b07ef8112a",
   "metadata": {},
   "outputs": [
    {
     "name": "stderr",
     "output_type": "stream",
     "text": [
      "100%|█████████████████████████████████████████████████████████████████████████████| 7023/7023 [00:12<00:00, 566.93it/s]\n"
     ]
    }
   ],
   "source": [
    "#Copy all images and save in new directory\n",
    "def copy_image(row, output_dir):\n",
    "    src = row['file_path']\n",
    "    dst = os.path.join(output_dir, os.path.basename(src))\n",
    "    try:\n",
    "        shutil.copy2(src, dst)  # copy2 preserves metadata\n",
    "        return dst\n",
    "    except Exception as e:\n",
    "        print(f\"Failed to copy {src}: {e}\")\n",
    "        return None\n",
    "\n",
    "# Apply to the DataFrame\n",
    "tqdm.pandas()\n",
    "df['file_path'] = df.progress_apply(lambda row: copy_image(row, output_dir), axis=1)"
   ]
  },
  {
   "cell_type": "markdown",
   "id": "114188ad-915c-4ec1-bcbd-fe4ae29abb93",
   "metadata": {},
   "source": [
    "## Convert Image Modes"
   ]
  },
  {
   "cell_type": "code",
   "execution_count": 11,
   "id": "b2cb9afb-0393-4f41-b4fc-e3c013addd49",
   "metadata": {},
   "outputs": [
    {
     "name": "stderr",
     "output_type": "stream",
     "text": [
      "100%|█████████████████████████████████████████████████████████████████████████████| 7023/7023 [01:02<00:00, 112.52it/s]\n"
     ]
    }
   ],
   "source": [
    "#Convert all image modes to RGB\n",
    "def convert_to_rgb(path):\n",
    "    try:\n",
    "        img = Image.open(path)\n",
    "        if img.mode != 'RGB':\n",
    "            img = img.convert('RGB')\n",
    "            img.save(path)\n",
    "        return 'RGB'\n",
    "    except Exception as e:\n",
    "        print(f\"Error converting {path}: {e}\")\n",
    "        return None\n",
    "\n",
    "tqdm.pandas()\n",
    "df['image_mode'] = df['file_path'].progress_apply(convert_to_rgb)"
   ]
  },
  {
   "cell_type": "code",
   "execution_count": 12,
   "id": "76e608ca-9d37-48df-9de8-d9dd844d1ee2",
   "metadata": {},
   "outputs": [],
   "source": [
    "#Apply image mode transfermation to DataFrame\n",
    "def get_mode(path):\n",
    "    with Image.open(path) as img:\n",
    "        return img.mode\n",
    "\n",
    "df['image_mode'] = df['file_path'].apply(get_mode)"
   ]
  },
  {
   "cell_type": "code",
   "execution_count": 13,
   "id": "12bb87b4-8c03-4b15-8f15-858a6f3ccbdd",
   "metadata": {},
   "outputs": [
    {
     "name": "stdout",
     "output_type": "stream",
     "text": [
      "['RGB']\n"
     ]
    }
   ],
   "source": [
    "print(df.image_mode.unique())"
   ]
  },
  {
   "cell_type": "markdown",
   "id": "111a0baa-b01c-45d5-90c8-9b29c6578896",
   "metadata": {},
   "source": [
    "## Convert Image Size"
   ]
  },
  {
   "cell_type": "markdown",
   "id": "8af44075-a484-4327-a5d5-fe2ef85fc04b",
   "metadata": {},
   "source": [
    "Since I am starting with tranfer learning and will be using the MobileNetV2 and EfficientNetB0 pretrained models, I will convert all images to (224,224) since both models were pretrained with that image size."
   ]
  },
  {
   "cell_type": "code",
   "execution_count": 14,
   "id": "d0e42b20-78d4-49a9-b4a6-767eaab7fec2",
   "metadata": {},
   "outputs": [
    {
     "name": "stderr",
     "output_type": "stream",
     "text": [
      "Resizing images: 100%|████████████████████████████████████████████████████████████| 7023/7023 [00:26<00:00, 261.59it/s]\n"
     ]
    }
   ],
   "source": [
    "# Target size\n",
    "target_size = (224, 224)  # (width, height)\n",
    "\n",
    "# Resize images\n",
    "for path in tqdm(df['file_path'], desc=\"Resizing images\"):\n",
    "    try:\n",
    "        img = Image.open(path)\n",
    "        img = img.resize(target_size)\n",
    "        img.save(path)  \n",
    "    except Exception as e:\n",
    "        print(f\"[ERROR] {path}: {e}\")"
   ]
  },
  {
   "cell_type": "code",
   "execution_count": 15,
   "id": "adc8f503-c90d-4508-9fe2-213ad520777f",
   "metadata": {},
   "outputs": [
    {
     "data": {
      "text/plain": [
       "array([(224, 224)], dtype=object)"
      ]
     },
     "execution_count": 15,
     "metadata": {},
     "output_type": "execute_result"
    }
   ],
   "source": [
    "# Add resized images to DataFrame \n",
    "df['image_size'] = df['file_path'].apply(lambda path: img.size)\n",
    "df.image_size.unique()"
   ]
  },
  {
   "cell_type": "markdown",
   "id": "8f4e8d54-79d8-48b8-822b-37ca04c933f7",
   "metadata": {},
   "source": [
    "## Explore Class Balance"
   ]
  },
  {
   "cell_type": "markdown",
   "id": "034a3098-1057-42d7-b96e-e613be6bb689",
   "metadata": {},
   "source": [
    "I will now explore the class balance between tumor images and non-tumor images. This will guide me on how to handle and class imbalance if necessary. "
   ]
  },
  {
   "cell_type": "code",
   "execution_count": 16,
   "id": "98895877-84b1-4a14-a364-fd29ad39bd3c",
   "metadata": {},
   "outputs": [
    {
     "data": {
      "image/png": "[encoded data removed]",
      "text/plain": [
       "<Figure size 640x480 with 1 Axes>"
      ]
     },
     "metadata": {},
     "output_type": "display_data"
    }
   ],
   "source": [
    "#Explore class balance\n",
    "sns.countplot(x='binary_label', data=df)\n",
    "plt.title(\"Tumor vs Non-Tumor Class Distribution\")\n",
    "plt.show()"
   ]
  },
  {
   "cell_type": "code",
   "execution_count": 17,
   "id": "b639b517-562b-4ca7-bab2-03876d293295",
   "metadata": {},
   "outputs": [
    {
     "name": "stdout",
     "output_type": "stream",
     "text": [
      "The class imbalance ratio is 2.51\n"
     ]
    }
   ],
   "source": [
    "#Determine class imbalance ratio\n",
    "positive = (df.binary_label == 1).sum()\n",
    "negative = (df.binary_label == 0).sum()\n",
    "class_imbalance_ratio = positive/negative\n",
    "print(f\"The class imbalance ratio is {class_imbalance_ratio:.2f}\")"
   ]
  },
  {
   "cell_type": "markdown",
   "id": "263085a9-34f6-4317-a1ce-10c07e78504e",
   "metadata": {},
   "source": [
    "A class imbalance ratio of 2.51 is moderately imbalanced and can impact my model’s performance, especially during training. This is especially problematic in medical tasks, where false negatives (missed tumors) can be very costly since my tumor images outnumber non-tumor images.  \n",
    "\n",
    "To help address this imbalance I will start by using class weights during my model training. Other techniques that I will consider if perfomance is still not great after using class weights include:  \n",
    "\n",
    "* Oversampling\n",
    "* Data Augmentation"
   ]
  },
  {
   "cell_type": "code",
   "execution_count": 18,
   "id": "f281da27-4a2b-4631-83df-d0ae1fc5e400",
   "metadata": {},
   "outputs": [
    {
     "name": "stdout",
     "output_type": "stream",
     "text": [
      "Class Weights: {0: 1.75575, 1: 0.6990842126219391}\n"
     ]
    }
   ],
   "source": [
    "#Explore possible class weights for training\n",
    "class_weights = compute_class_weight(class_weight='balanced', classes=np.unique(df['binary_label']), y=df['binary_label'])\n",
    "\n",
    "class_weights_dict = dict(enumerate(class_weights))\n",
    "print(\"Class Weights:\", class_weights_dict)"
   ]
  },
  {
   "cell_type": "code",
   "execution_count": null,
   "id": "4bad1bce-8d6c-4122-bfa0-761eaab40294",
   "metadata": {},
   "outputs": [],
   "source": []
  }
 ],
 "metadata": {
  "kernelspec": {
   "display_name": "Python 3 (ipykernel)",
   "language": "python",
   "name": "python3"
  },
  "language_info": {
   "codemirror_mode": {
    "name": "ipython",
    "version": 3
   },
   "file_extension": ".py",
   "mimetype": "text/x-python",
   "name": "python",
   "nbconvert_exporter": "python",
   "pygments_lexer": "ipython3",
   "version": "3.10.11"
  }
 },
 "nbformat": 4,
 "nbformat_minor": 5
}
